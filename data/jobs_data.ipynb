{
 "cells": [
  {
   "cell_type": "markdown",
   "metadata": {},
   "source": [
    "## PV Solar"
   ]
  },
  {
   "cell_type": "markdown",
   "metadata": {},
   "source": [
    "| Source || Manufacturing || Installation || O&M |\n",
    "| --- || --- || --- || --- |\n",
    "| || Job years/MW || Job years/MW || Jobs/MW |\n",
    "| [1] || 6.7 || 13.0 ||0.7|\n",
    "| [2] || -- || -- ||1.06|\n",
    "| [3] || 18.8|| 11.2 ||0.3|\n",
    "| [4] || 10.3 || 6.6 ||0.2|\n",
    "| Average || 11.9 || 10.3 ||0.6|\n",
    "| Median || 10.3 || 11.2 ||0.5|"
   ]
  },
  {
   "cell_type": "markdown",
   "metadata": {},
   "source": [
    "## Wind"
   ]
  },
  {
   "cell_type": "markdown",
   "metadata": {},
   "source": [
    "| Source || Manufacturing || Installation || O&M |\n",
    "| --- || --- || --- || --- |\n",
    "| || Job years/MW || Job years/MW || Jobs/MW |\n",
    "| [1] || 4.7 || 3.2 ||0.3|\n",
    "| [2] ||  -- || --  ||0.05|\n",
    "| [3] || 4.0 || 2.0 ||0.3|\n",
    "| [4] || 7.5 || 2.5 ||0.4|\n",
    "| Average || 5.4 || 2.6 ||0.6|\n",
    "| Median  || 4.7 || 2.5 ||0.3|"
   ]
  },
  {
   "cell_type": "markdown",
   "metadata": {},
   "source": [
    "## Nuclear"
   ]
  },
  {
   "cell_type": "markdown",
   "metadata": {},
   "source": [
    "<img src = 'img/Nuclear_Labor_Years_FCoEP_Table9_2.png'>"
   ]
  },
  {
   "cell_type": "code",
   "execution_count": 17,
   "metadata": {},
   "outputs": [
    {
     "name": "stdout",
     "output_type": "stream",
     "text": [
      "Manufacturing = 5.8\n",
      "Installation = 6.3\n"
     ]
    }
   ],
   "source": [
    "'''Table 9.2 does not provide a breakdown of manufacturing vs installation so \n",
    "we will calculate it ourself'''\n",
    "Manufacturing = (316+1994+2244+729+1341+3)/1147\n",
    "print('Manufacturing = '+str(round(Manufacturing,1)))\n",
    "Installation = 12.1-Manufacturing\n",
    "print('Installation = ' + str(round(Installation,1)))\n",
    "#These are the numbers in the following table for source 2"
   ]
  },
  {
   "cell_type": "markdown",
   "metadata": {},
   "source": [
    "Source 1 Gives 0.95 jobs/MW, multiply by 10 years decommissioning to \n",
    "get 9.5 job years/MW.\n",
    "\n",
    "Source 2 says 5000 labour-years for decommissioning a 1000 MWe reactor so divide 5000 by 1000 to get 5 job years/MW."
   ]
  },
  {
   "cell_type": "markdown",
   "metadata": {},
   "source": [
    "#### Nuclear"
   ]
  },
  {
   "cell_type": "markdown",
   "metadata": {},
   "source": [
    "| Source || Manufacturing || Installation || O&M || Decommissioning |\n",
    "| --- || --- || --- || --- ||---|\n",
    "| || Job years/MW || Job years/MW || Jobs/MW || Job years/MW|\n",
    "| [1] || 1.3 || 11.8 ||0.6|| 9.5|\n",
    "| [2] || 5.8 || 6.3  ||0.5|| 5.0|\n",
    "| Average/Median || 3.6 || 9.1 ||0.6||7.3|"
   ]
  },
  {
   "cell_type": "markdown",
   "metadata": {},
   "source": [
    "## Coal"
   ]
  },
  {
   "cell_type": "markdown",
   "metadata": {},
   "source": [
    "| Source || Manufacturing || Installation || O&M |\n",
    "| --- || --- || --- || --- |\n",
    "| || Job years/MW || Job years/MW || Jobs/MW |\n",
    "| [1] || 5.4 || 11.2 ||0.14|\n",
    "| [2] || -- || -- ||0.19|\n",
    "| Average/Median || 5.4 || 11.2 ||0.17|"
   ]
  },
  {
   "cell_type": "markdown",
   "metadata": {},
   "source": [
    "## Natural Gas"
   ]
  },
  {
   "cell_type": "markdown",
   "metadata": {},
   "source": [
    "| Source || Manufacturing || Installation || O&M |\n",
    "| --- || --- || --- || --- |\n",
    "| || Job years/MW || Job years/MW || Jobs/MW |\n",
    "| [1] || 0.93 || 1.3 ||0.14|"
   ]
  },
  {
   "cell_type": "markdown",
   "metadata": {},
   "source": [
    "## Sources"
   ]
  },
  {
   "cell_type": "markdown",
   "metadata": {},
   "source": [
    "<a href=\"https://opus.lib.uts.edu.au/handle/10453/43718\" >Calculating Global Energy Sector Jobs</a>[1]\n",
    "\n",
    "<a href=\"https://www.oecd-nea.org/jcms/pl_14998/the-full-costs-of-electricity-provision?details=true\" >The Full Costs of Electricity Provision</a>[2]\n",
    "\n",
    "<a href=\"https://www.sciencedirect.com/science/article/abs/pii/S1364032115000118\" >Employment factors for wind and solar energy technologies: A literature review</a>[3]\n",
    "\n",
    "<a href=\"https://www.sciencedirect.com/science/article/abs/pii/S0360544215011378\" >Employment effects of renewable electricity deployment. A novel methodology</a>[4]"
   ]
  },
  {
   "cell_type": "code",
   "execution_count": null,
   "metadata": {},
   "outputs": [],
   "source": []
  }
 ],
 "metadata": {
  "kernelspec": {
   "display_name": "Python 3",
   "language": "python",
   "name": "python3"
  },
  "language_info": {
   "codemirror_mode": {
    "name": "ipython",
    "version": 3
   },
   "file_extension": ".py",
   "mimetype": "text/x-python",
   "name": "python",
   "nbconvert_exporter": "python",
   "pygments_lexer": "ipython3",
   "version": "3.6.5"
  }
 },
 "nbformat": 4,
 "nbformat_minor": 2
}
