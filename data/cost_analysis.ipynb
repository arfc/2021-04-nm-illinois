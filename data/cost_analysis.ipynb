{
 "cells": [
  {
   "cell_type": "markdown",
   "metadata": {},
   "source": [
    "# Analysis of Capital, Fixed, and Variable Costs for Various Generation Types"
   ]
  },
  {
   "cell_type": "code",
   "execution_count": 1,
   "metadata": {},
   "outputs": [],
   "source": [
    "import numpy as np\n",
    "import pandas as pd\n",
    "import matplotlib.pyplot as plt"
   ]
  },
  {
   "cell_type": "markdown",
   "metadata": {},
   "source": [
    "Many of these reports are from previous years, so we should account for this by adjusting for inflation. \n",
    "We can do this with the ``cpi`` (consumer price index) from the Bureau of Labor Statistics.\n",
    "\n",
    "$$ P_{adj} = \\frac{P_{old} \\cdot CPI_{present}}{CPI_{old}} $$"
   ]
  },
  {
   "cell_type": "markdown",
   "metadata": {},
   "source": [
    "We can retreive the consumer price index data from the Bureau of Labor Statistics. The usual values for inflation calculations are the \"All Urban Consumers (CU)\" survey. The code for this is \"CUUR0000SA0\". "
   ]
  },
  {
   "cell_type": "code",
   "execution_count": 2,
   "metadata": {},
   "outputs": [],
   "source": [
    "url = \"https://download.bls.gov/pub/time.series/cu/cu.data.0.Current\"\n",
    "cpi_data = pd.read_csv(url, sep='\\t')"
   ]
  },
  {
   "cell_type": "code",
   "execution_count": 3,
   "metadata": {},
   "outputs": [
    {
     "data": {
      "text/plain": [
       "'series_id        '"
      ]
     },
     "execution_count": 3,
     "metadata": {},
     "output_type": "execute_result"
    }
   ],
   "source": [
    "cpi_key = cpi_data.keys()[0]\n",
    "cpi_key"
   ]
  },
  {
   "cell_type": "code",
   "execution_count": 4,
   "metadata": {},
   "outputs": [
    {
     "data": {
      "text/plain": [
       "'CUSR0000SA0      '"
      ]
     },
     "execution_count": 4,
     "metadata": {},
     "output_type": "execute_result"
    }
   ],
   "source": [
    "cu = list(cpi_data[cpi_key])[0]\n",
    "cu"
   ]
  },
  {
   "cell_type": "code",
   "execution_count": 5,
   "metadata": {},
   "outputs": [],
   "source": [
    "cpi_u = cpi_data[cpi_key] == cu\n",
    "cpi_data = cpi_data[cpi_u]"
   ]
  },
  {
   "cell_type": "code",
   "execution_count": 6,
   "metadata": {},
   "outputs": [
    {
     "data": {
      "text/html": [
       "<div>\n",
       "<style scoped>\n",
       "    .dataframe tbody tr th:only-of-type {\n",
       "        vertical-align: middle;\n",
       "    }\n",
       "\n",
       "    .dataframe tbody tr th {\n",
       "        vertical-align: top;\n",
       "    }\n",
       "\n",
       "    .dataframe thead th {\n",
       "        text-align: right;\n",
       "    }\n",
       "</style>\n",
       "<table border=\"1\" class=\"dataframe\">\n",
       "  <thead>\n",
       "    <tr style=\"text-align: right;\">\n",
       "      <th></th>\n",
       "      <th>series_id</th>\n",
       "      <th>year</th>\n",
       "      <th>period</th>\n",
       "      <th>value</th>\n",
       "      <th>footnote_codes</th>\n",
       "    </tr>\n",
       "    <tr>\n",
       "      <th>year</th>\n",
       "      <th></th>\n",
       "      <th></th>\n",
       "      <th></th>\n",
       "      <th></th>\n",
       "      <th></th>\n",
       "    </tr>\n",
       "  </thead>\n",
       "  <tbody>\n",
       "    <tr>\n",
       "      <th>1997-01-01</th>\n",
       "      <td>CUSR0000SA0</td>\n",
       "      <td>1997</td>\n",
       "      <td>M01</td>\n",
       "      <td>159.400</td>\n",
       "      <td>NaN</td>\n",
       "    </tr>\n",
       "    <tr>\n",
       "      <th>1997-01-01</th>\n",
       "      <td>CUSR0000SA0</td>\n",
       "      <td>1997</td>\n",
       "      <td>M02</td>\n",
       "      <td>159.700</td>\n",
       "      <td>NaN</td>\n",
       "    </tr>\n",
       "    <tr>\n",
       "      <th>1997-01-01</th>\n",
       "      <td>CUSR0000SA0</td>\n",
       "      <td>1997</td>\n",
       "      <td>M03</td>\n",
       "      <td>159.800</td>\n",
       "      <td>NaN</td>\n",
       "    </tr>\n",
       "    <tr>\n",
       "      <th>1997-01-01</th>\n",
       "      <td>CUSR0000SA0</td>\n",
       "      <td>1997</td>\n",
       "      <td>M04</td>\n",
       "      <td>159.900</td>\n",
       "      <td>NaN</td>\n",
       "    </tr>\n",
       "    <tr>\n",
       "      <th>1997-01-01</th>\n",
       "      <td>CUSR0000SA0</td>\n",
       "      <td>1997</td>\n",
       "      <td>M05</td>\n",
       "      <td>159.900</td>\n",
       "      <td>NaN</td>\n",
       "    </tr>\n",
       "    <tr>\n",
       "      <th>...</th>\n",
       "      <td>...</td>\n",
       "      <td>...</td>\n",
       "      <td>...</td>\n",
       "      <td>...</td>\n",
       "      <td>...</td>\n",
       "    </tr>\n",
       "    <tr>\n",
       "      <th>2020-01-01</th>\n",
       "      <td>CUSR0000SA0</td>\n",
       "      <td>2020</td>\n",
       "      <td>M10</td>\n",
       "      <td>260.462</td>\n",
       "      <td>NaN</td>\n",
       "    </tr>\n",
       "    <tr>\n",
       "      <th>2020-01-01</th>\n",
       "      <td>CUSR0000SA0</td>\n",
       "      <td>2020</td>\n",
       "      <td>M11</td>\n",
       "      <td>260.927</td>\n",
       "      <td>NaN</td>\n",
       "    </tr>\n",
       "    <tr>\n",
       "      <th>2020-01-01</th>\n",
       "      <td>CUSR0000SA0</td>\n",
       "      <td>2020</td>\n",
       "      <td>M12</td>\n",
       "      <td>261.560</td>\n",
       "      <td>NaN</td>\n",
       "    </tr>\n",
       "    <tr>\n",
       "      <th>2021-01-01</th>\n",
       "      <td>CUSR0000SA0</td>\n",
       "      <td>2021</td>\n",
       "      <td>M01</td>\n",
       "      <td>262.231</td>\n",
       "      <td>NaN</td>\n",
       "    </tr>\n",
       "    <tr>\n",
       "      <th>2021-01-01</th>\n",
       "      <td>CUSR0000SA0</td>\n",
       "      <td>2021</td>\n",
       "      <td>M02</td>\n",
       "      <td>263.161</td>\n",
       "      <td>NaN</td>\n",
       "    </tr>\n",
       "  </tbody>\n",
       "</table>\n",
       "<p>290 rows × 5 columns</p>\n",
       "</div>"
      ],
      "text/plain": [
       "            series_id          year period         value  footnote_codes\n",
       "year                                                                    \n",
       "1997-01-01  CUSR0000SA0        1997    M01       159.400             NaN\n",
       "1997-01-01  CUSR0000SA0        1997    M02       159.700             NaN\n",
       "1997-01-01  CUSR0000SA0        1997    M03       159.800             NaN\n",
       "1997-01-01  CUSR0000SA0        1997    M04       159.900             NaN\n",
       "1997-01-01  CUSR0000SA0        1997    M05       159.900             NaN\n",
       "...                       ...   ...    ...           ...             ...\n",
       "2020-01-01  CUSR0000SA0        2020    M10       260.462             NaN\n",
       "2020-01-01  CUSR0000SA0        2020    M11       260.927             NaN\n",
       "2020-01-01  CUSR0000SA0        2020    M12       261.560             NaN\n",
       "2021-01-01  CUSR0000SA0        2021    M01       262.231             NaN\n",
       "2021-01-01  CUSR0000SA0        2021    M02       263.161             NaN\n",
       "\n",
       "[290 rows x 5 columns]"
      ]
     },
     "execution_count": 6,
     "metadata": {},
     "output_type": "execute_result"
    }
   ],
   "source": [
    "cpi_data.index = pd.to_datetime(cpi_data.iloc[:,1], format='%Y')\n",
    "cpi_data"
   ]
  },
  {
   "cell_type": "code",
   "execution_count": 7,
   "metadata": {},
   "outputs": [
    {
     "data": {
      "text/html": [
       "<div>\n",
       "<style scoped>\n",
       "    .dataframe tbody tr th:only-of-type {\n",
       "        vertical-align: middle;\n",
       "    }\n",
       "\n",
       "    .dataframe tbody tr th {\n",
       "        vertical-align: top;\n",
       "    }\n",
       "\n",
       "    .dataframe thead th {\n",
       "        text-align: right;\n",
       "    }\n",
       "</style>\n",
       "<table border=\"1\" class=\"dataframe\">\n",
       "  <thead>\n",
       "    <tr style=\"text-align: right;\">\n",
       "      <th></th>\n",
       "      <th>year</th>\n",
       "      <th>value</th>\n",
       "      <th>footnote_codes</th>\n",
       "    </tr>\n",
       "    <tr>\n",
       "      <th>year</th>\n",
       "      <th></th>\n",
       "      <th></th>\n",
       "      <th></th>\n",
       "    </tr>\n",
       "  </thead>\n",
       "  <tbody>\n",
       "    <tr>\n",
       "      <th>1997-12-31</th>\n",
       "      <td>1997</td>\n",
       "      <td>160.525000</td>\n",
       "      <td>NaN</td>\n",
       "    </tr>\n",
       "    <tr>\n",
       "      <th>1998-12-31</th>\n",
       "      <td>1998</td>\n",
       "      <td>163.008333</td>\n",
       "      <td>NaN</td>\n",
       "    </tr>\n",
       "    <tr>\n",
       "      <th>1999-12-31</th>\n",
       "      <td>1999</td>\n",
       "      <td>166.583333</td>\n",
       "      <td>NaN</td>\n",
       "    </tr>\n",
       "    <tr>\n",
       "      <th>2000-12-31</th>\n",
       "      <td>2000</td>\n",
       "      <td>172.191667</td>\n",
       "      <td>NaN</td>\n",
       "    </tr>\n",
       "    <tr>\n",
       "      <th>2001-12-31</th>\n",
       "      <td>2001</td>\n",
       "      <td>177.041667</td>\n",
       "      <td>NaN</td>\n",
       "    </tr>\n",
       "    <tr>\n",
       "      <th>2002-12-31</th>\n",
       "      <td>2002</td>\n",
       "      <td>179.866667</td>\n",
       "      <td>NaN</td>\n",
       "    </tr>\n",
       "    <tr>\n",
       "      <th>2003-12-31</th>\n",
       "      <td>2003</td>\n",
       "      <td>184.000000</td>\n",
       "      <td>NaN</td>\n",
       "    </tr>\n",
       "    <tr>\n",
       "      <th>2004-12-31</th>\n",
       "      <td>2004</td>\n",
       "      <td>188.908333</td>\n",
       "      <td>NaN</td>\n",
       "    </tr>\n",
       "    <tr>\n",
       "      <th>2005-12-31</th>\n",
       "      <td>2005</td>\n",
       "      <td>195.266667</td>\n",
       "      <td>NaN</td>\n",
       "    </tr>\n",
       "    <tr>\n",
       "      <th>2006-12-31</th>\n",
       "      <td>2006</td>\n",
       "      <td>201.558333</td>\n",
       "      <td>NaN</td>\n",
       "    </tr>\n",
       "    <tr>\n",
       "      <th>2007-12-31</th>\n",
       "      <td>2007</td>\n",
       "      <td>207.344167</td>\n",
       "      <td>NaN</td>\n",
       "    </tr>\n",
       "    <tr>\n",
       "      <th>2008-12-31</th>\n",
       "      <td>2008</td>\n",
       "      <td>215.254250</td>\n",
       "      <td>NaN</td>\n",
       "    </tr>\n",
       "    <tr>\n",
       "      <th>2009-12-31</th>\n",
       "      <td>2009</td>\n",
       "      <td>214.564667</td>\n",
       "      <td>NaN</td>\n",
       "    </tr>\n",
       "    <tr>\n",
       "      <th>2010-12-31</th>\n",
       "      <td>2010</td>\n",
       "      <td>218.076167</td>\n",
       "      <td>NaN</td>\n",
       "    </tr>\n",
       "    <tr>\n",
       "      <th>2011-12-31</th>\n",
       "      <td>2011</td>\n",
       "      <td>224.923000</td>\n",
       "      <td>NaN</td>\n",
       "    </tr>\n",
       "    <tr>\n",
       "      <th>2012-12-31</th>\n",
       "      <td>2012</td>\n",
       "      <td>229.586083</td>\n",
       "      <td>NaN</td>\n",
       "    </tr>\n",
       "    <tr>\n",
       "      <th>2013-12-31</th>\n",
       "      <td>2013</td>\n",
       "      <td>232.951750</td>\n",
       "      <td>NaN</td>\n",
       "    </tr>\n",
       "    <tr>\n",
       "      <th>2014-12-31</th>\n",
       "      <td>2014</td>\n",
       "      <td>236.715000</td>\n",
       "      <td>NaN</td>\n",
       "    </tr>\n",
       "    <tr>\n",
       "      <th>2015-12-31</th>\n",
       "      <td>2015</td>\n",
       "      <td>237.001750</td>\n",
       "      <td>NaN</td>\n",
       "    </tr>\n",
       "    <tr>\n",
       "      <th>2016-12-31</th>\n",
       "      <td>2016</td>\n",
       "      <td>240.005417</td>\n",
       "      <td>NaN</td>\n",
       "    </tr>\n",
       "    <tr>\n",
       "      <th>2017-12-31</th>\n",
       "      <td>2017</td>\n",
       "      <td>245.135500</td>\n",
       "      <td>NaN</td>\n",
       "    </tr>\n",
       "    <tr>\n",
       "      <th>2018-12-31</th>\n",
       "      <td>2018</td>\n",
       "      <td>251.102333</td>\n",
       "      <td>NaN</td>\n",
       "    </tr>\n",
       "    <tr>\n",
       "      <th>2019-12-31</th>\n",
       "      <td>2019</td>\n",
       "      <td>255.652583</td>\n",
       "      <td>NaN</td>\n",
       "    </tr>\n",
       "    <tr>\n",
       "      <th>2020-12-31</th>\n",
       "      <td>2020</td>\n",
       "      <td>258.844083</td>\n",
       "      <td>NaN</td>\n",
       "    </tr>\n",
       "    <tr>\n",
       "      <th>2021-12-31</th>\n",
       "      <td>2021</td>\n",
       "      <td>262.696000</td>\n",
       "      <td>NaN</td>\n",
       "    </tr>\n",
       "  </tbody>\n",
       "</table>\n",
       "</div>"
      ],
      "text/plain": [
       "            year         value  footnote_codes\n",
       "year                                          \n",
       "1997-12-31  1997    160.525000             NaN\n",
       "1998-12-31  1998    163.008333             NaN\n",
       "1999-12-31  1999    166.583333             NaN\n",
       "2000-12-31  2000    172.191667             NaN\n",
       "2001-12-31  2001    177.041667             NaN\n",
       "2002-12-31  2002    179.866667             NaN\n",
       "2003-12-31  2003    184.000000             NaN\n",
       "2004-12-31  2004    188.908333             NaN\n",
       "2005-12-31  2005    195.266667             NaN\n",
       "2006-12-31  2006    201.558333             NaN\n",
       "2007-12-31  2007    207.344167             NaN\n",
       "2008-12-31  2008    215.254250             NaN\n",
       "2009-12-31  2009    214.564667             NaN\n",
       "2010-12-31  2010    218.076167             NaN\n",
       "2011-12-31  2011    224.923000             NaN\n",
       "2012-12-31  2012    229.586083             NaN\n",
       "2013-12-31  2013    232.951750             NaN\n",
       "2014-12-31  2014    236.715000             NaN\n",
       "2015-12-31  2015    237.001750             NaN\n",
       "2016-12-31  2016    240.005417             NaN\n",
       "2017-12-31  2017    245.135500             NaN\n",
       "2018-12-31  2018    251.102333             NaN\n",
       "2019-12-31  2019    255.652583             NaN\n",
       "2020-12-31  2020    258.844083             NaN\n",
       "2021-12-31  2021    262.696000             NaN"
      ]
     },
     "execution_count": 7,
     "metadata": {},
     "output_type": "execute_result"
    }
   ],
   "source": [
    "cpi_average = cpi_data.resample('Y').mean()\n",
    "cpi_average"
   ]
  },
  {
   "cell_type": "code",
   "execution_count": 8,
   "metadata": {},
   "outputs": [],
   "source": [
    "target_year = 2021\n",
    "cpi_current = cpi_average[cpi_average.iloc[:,0]==target_year].iloc[:,1]"
   ]
  },
  {
   "cell_type": "code",
   "execution_count": 9,
   "metadata": {},
   "outputs": [],
   "source": [
    "def inflate(p_old, start_year, target_year=2021):\n",
    "    \"\"\"\n",
    "    This function calculates the inflated value of an item\n",
    "    based on the Consumer Price Index from the Bureau of \n",
    "    Labor Statistics.\n",
    "    \n",
    "    Parameters\n",
    "    ----------\n",
    "    p_old : float\n",
    "        The old price or value of an item. I.e. the price of\n",
    "        the item at the starting year.\n",
    "    start_year : integer\n",
    "        The year from which you would like to inflate. E.g.\n",
    "        the price of milk in 1997 inflated to today's dollars.\n",
    "    target_year : integer\n",
    "        The target year you would like to inflate to. E.g.\n",
    "        the price of milk in 1997 inflated to 2021 dollars.\n",
    "        Default is 2021.\n",
    "        \n",
    "    Returns\n",
    "    -------\n",
    "    p_adj : float\n",
    "        The price adjusted for inflation.\n",
    "    \"\"\"\n",
    "    \n",
    "    cpi_current = float(cpi_average[cpi_average.iloc[:,0]==target_year].iloc[:,1])    \n",
    "    cpi_old = float(cpi_average[cpi_average.iloc[:,0]==start_year].iloc[:,1])\n",
    "    \n",
    "    p_adj = (p_old*cpi_current)/cpi_old\n",
    "    \n",
    "    return p_adj"
   ]
  },
  {
   "cell_type": "code",
   "execution_count": 10,
   "metadata": {},
   "outputs": [
    {
     "data": {
      "text/plain": [
       "1.0"
      ]
     },
     "execution_count": 10,
     "metadata": {},
     "output_type": "execute_result"
    }
   ],
   "source": [
    "inflate(1.00, 2017, 2017)"
   ]
  },
  {
   "cell_type": "code",
   "execution_count": 11,
   "metadata": {},
   "outputs": [
    {
     "data": {
      "text/plain": [
       "1.0559224728092558"
      ]
     },
     "execution_count": 11,
     "metadata": {},
     "output_type": "execute_result"
    }
   ],
   "source": [
    "inflate(1.00, 2017, 2020)"
   ]
  },
  {
   "cell_type": "code",
   "execution_count": 12,
   "metadata": {},
   "outputs": [
    {
     "data": {
      "text/plain": [
       "0.6548419139618701"
      ]
     },
     "execution_count": 12,
     "metadata": {},
     "output_type": "execute_result"
    }
   ],
   "source": [
    "inflate(1.00, 2017, 1997)"
   ]
  },
  {
   "cell_type": "markdown",
   "metadata": {},
   "source": [
    "## Nuclear Plants"
   ]
  },
  {
   "cell_type": "markdown",
   "metadata": {},
   "source": [
    "\"Nuclear Costs in Context\" (NEI, 2018)\n",
    "\n",
    "This document gives a cost summary for each of fuel, capital, and operating costs in \\$/MWh. This is \n",
    "helpful for variable operating costs. But we cannot reliably convert these into fixed values required for capital and fixed annual costs. "
   ]
  },
  {
   "cell_type": "code",
   "execution_count": 13,
   "metadata": {},
   "outputs": [
    {
     "name": "stdout",
     "output_type": "stream",
     "text": [
      "6.665575243079848e-06\n",
      "7.019215087166078e-06\n"
     ]
    }
   ],
   "source": [
    "fuel_nei_bwr = inflate(6.22, 2017)/1e6  # M$/MWh\n",
    "fuel_nei_pwr = inflate(6.55, 2017)/1e6  # M$/MWh\n",
    "print(fuel_nei_bwr);print(fuel_nei_pwr)"
   ]
  },
  {
   "cell_type": "code",
   "execution_count": 14,
   "metadata": {},
   "outputs": [
    {
     "name": "stdout",
     "output_type": "stream",
     "text": [
      "2.9802194133448643e-05\n",
      "2.8248322091251573e-05\n"
     ]
    }
   ],
   "source": [
    "om_nei_bwr_total = inflate(27.81, 2017)/1e6  # M$/MWh\n",
    "om_nei_pwr_total = inflate(26.36, 2017)/1e6  # M$/MWh\n",
    "print(om_nei_bwr_total);print(om_nei_pwr_total)"
   ]
  },
  {
   "cell_type": "markdown",
   "metadata": {},
   "source": [
    "\"Projected Costs of Generating Electricity\" (IEA, 2020)\n",
    "\n",
    "This document only gives a cost summary for overnight capital costs in \\$/kWe. This is helpful for investment costs but gives no indication for annual fixed costs. It also does not distinguish between PWR and BWR for the United States.\n",
    "\n",
    "It DOES give values for capital costs required for license renewals (if we were to incorporate this, I believe we should implement as an additional annual fixed cost, dividing by the life of the extension). "
   ]
  },
  {
   "cell_type": "code",
   "execution_count": 15,
   "metadata": {},
   "outputs": [
    {
     "name": "stdout",
     "output_type": "stream",
     "text": [
      "4.313245200054472\n"
     ]
    }
   ],
   "source": [
    "# New Build for Nuclear\n",
    "cc_iea = inflate(4250, 2020)*1000/1e6  # M$/MW\n",
    "print(cc_iea)"
   ]
  },
  {
   "cell_type": "markdown",
   "metadata": {},
   "source": [
    "\"Nuclear Power Economics and Project Structuring\" (WNA, 2017)\n",
    "\n",
    "This document gives OM and Fuel Costs (cents per kWh) as well as estimated capital cost -- assumes PWR"
   ]
  },
  {
   "cell_type": "code",
   "execution_count": 16,
   "metadata": {},
   "outputs": [
    {
     "name": "stdout",
     "output_type": "stream",
     "text": [
      "2.8030499326436163e-05\n",
      "4.54449640139788\n"
     ]
    }
   ],
   "source": [
    "om_total_wna = inflate(0.024, 2011)*1000/1e6  # M$/MWh\n",
    "cc_wna_pwr = inflate(4100, 2015)*1000/1e6  # M$/MW\n",
    "print(om_total_wna);print(cc_wna_pwr)"
   ]
  },
  {
   "cell_type": "markdown",
   "metadata": {},
   "source": [
    "\"Capital Costs and Performance Characteristics for Utility Scale Power Generating Technologies\" (Sargent and Lundy, 2020)\n",
    "\n",
    "\n",
    "This document gives capital cost, dollars/kW, variable OM, dollars/MWh, and fixed OM, \\$ /kW-year. However, not for current technology in the U.S. Estimates for \"advanced\" (AP-1000) and \"modular\" (small modular reactors, 50 MW).\n",
    "\n",
    "Also provided: Specific emissions information (NOx, SOx, CO2)"
   ]
  },
  {
   "cell_type": "code",
   "execution_count": 17,
   "metadata": {},
   "outputs": [
    {
     "name": "stdout",
     "output_type": "stream",
     "text": [
      "6.1308974714186055\n",
      "6.28312965494994\n",
      "0.12345015203167674\n",
      "0.09641371623651175\n",
      "2.405268499795083e-06\n",
      "3.044643670626687e-06\n"
     ]
    }
   ],
   "source": [
    "cc_sl_adv = inflate(6041, 2020)*1000/1e6  # M$/MW\n",
    "cc_sl_smr = inflate(6191, 2020)*1000/1e6  # M$/MW\n",
    "print(cc_sl_adv);print(cc_sl_smr)\n",
    "om_sl_adv_fix = inflate(121.64, 2020)*1000/1e6  # M$/MW-year\n",
    "om_sl_smr_fix = inflate(95.00, 2020)*1000/1e6  # M$/MW-year\n",
    "print(om_sl_adv_fix);print(om_sl_smr_fix)\n",
    "om_sl_adv_var = inflate(2.37, 2020)/1e6  # M$/MWh\n",
    "om_sl_smr_var = inflate(3.00, 2020)/1e6  # M$/MWh\n",
    "print(om_sl_adv_var);print(om_sl_smr_var)"
   ]
  },
  {
   "cell_type": "markdown",
   "metadata": {},
   "source": [
    "Based on the values from the Sargent and Lundy report, we can make a reasonable guess about the \n",
    "annual fixed cost of a BWR or PWR from the NEI-2018 report.\n",
    "\n",
    "Assumptions:\n",
    "\n",
    "1. The \"capital\" cost in \\$/MWh corresponds to the annual \"fixed\" cost.\n",
    "2. The \"total operating\" cost in \\$/MWh corresponds to the \"variable\" cost.\n",
    "3. The average capacity factor is 92\\%. This will be used to convert MWh to MW"
   ]
  },
  {
   "cell_type": "code",
   "execution_count": 18,
   "metadata": {},
   "outputs": [
    {
     "name": "stdout",
     "output_type": "stream",
     "text": [
      "0.057260180468418506\n",
      "0.05734654574815971\n"
     ]
    }
   ],
   "source": [
    "mwh_to_mw = 8760*0.92\n",
    "om_nei_bwr_fix = inflate(6.63*mwh_to_mw, 2017)/1e6  # M$/MW-year\n",
    "om_nei_pwr_fix = inflate(6.64*mwh_to_mw, 2017)/1e6  # M$/MW-year\n",
    "print(om_nei_bwr_fix);print(om_nei_pwr_fix)"
   ]
  },
  {
   "cell_type": "markdown",
   "metadata": {},
   "source": [
    "\"Capital Cost Estimates for Utility Scale Electricity Generating Plants\" (EIA, 2016)\n",
    "\n",
    "This document gives\n",
    "* Overnight capital cost \\$/kW\n",
    "* Fixed OM cost \\$/kW-year\n",
    "* Variable OM cost \\$/MWh\n",
    "\n",
    "for \"advanced nuclear,\" presumably AP-1000"
   ]
  },
  {
   "cell_type": "code",
   "execution_count": 19,
   "metadata": {},
   "outputs": [
    {
     "name": "stdout",
     "output_type": "stream",
     "text": [
      "6.507051972785337\n",
      "0.10976066809603256\n",
      "2.5174465159640494e-06\n"
     ]
    }
   ],
   "source": [
    "cc_eia = inflate(5945, 2016)*1000/1e6  # M$/MW\n",
    "print(cc_eia)\n",
    "om_eia_fix = inflate(100.28, 2016)*1000/1e6  # M$/MW-year\n",
    "print(om_eia_fix)\n",
    "om_eia_var = inflate(2.3, 2016)/1e6  # M$/MWh\n",
    "print(om_eia_var)"
   ]
  },
  {
   "cell_type": "code",
   "execution_count": 20,
   "metadata": {},
   "outputs": [
    {
     "data": {
      "text/html": [
       "<div>\n",
       "<style scoped>\n",
       "    .dataframe tbody tr th:only-of-type {\n",
       "        vertical-align: middle;\n",
       "    }\n",
       "\n",
       "    .dataframe tbody tr th {\n",
       "        vertical-align: top;\n",
       "    }\n",
       "\n",
       "    .dataframe thead th {\n",
       "        text-align: right;\n",
       "    }\n",
       "</style>\n",
       "<table border=\"1\" class=\"dataframe\">\n",
       "  <thead>\n",
       "    <tr style=\"text-align: right;\">\n",
       "      <th></th>\n",
       "      <th>capital</th>\n",
       "      <th>fixed</th>\n",
       "      <th>variable</th>\n",
       "      <th>type</th>\n",
       "      <th>source</th>\n",
       "      <th>notes</th>\n",
       "    </tr>\n",
       "  </thead>\n",
       "  <tbody>\n",
       "    <tr>\n",
       "      <th>0</th>\n",
       "      <td>NaN</td>\n",
       "      <td>0.057347</td>\n",
       "      <td>0.000028</td>\n",
       "      <td>PWR</td>\n",
       "      <td>NEI-2018</td>\n",
       "      <td>calculated from assumptions tabulated in cost_...</td>\n",
       "    </tr>\n",
       "    <tr>\n",
       "      <th>1</th>\n",
       "      <td>NaN</td>\n",
       "      <td>0.057260</td>\n",
       "      <td>0.000030</td>\n",
       "      <td>BWR</td>\n",
       "      <td>NEI-2018</td>\n",
       "      <td>calculated from assumptions tabulated in cost_...</td>\n",
       "    </tr>\n",
       "    <tr>\n",
       "      <th>2</th>\n",
       "      <td>4.313245</td>\n",
       "      <td>NaN</td>\n",
       "      <td>NaN</td>\n",
       "      <td>LWR</td>\n",
       "      <td>IEA-2020</td>\n",
       "      <td>source does not give annual fixed or variable ...</td>\n",
       "    </tr>\n",
       "    <tr>\n",
       "      <th>3</th>\n",
       "      <td>4.544496</td>\n",
       "      <td>NaN</td>\n",
       "      <td>0.000028</td>\n",
       "      <td>PWR</td>\n",
       "      <td>WNA-2017</td>\n",
       "      <td>source does not give annual fixed cost</td>\n",
       "    </tr>\n",
       "    <tr>\n",
       "      <th>4</th>\n",
       "      <td>6.130897</td>\n",
       "      <td>0.123450</td>\n",
       "      <td>0.000002</td>\n",
       "      <td>advanced</td>\n",
       "      <td>SL-2020</td>\n",
       "      <td>source specifies \"advanced\" as AP-1000</td>\n",
       "    </tr>\n",
       "    <tr>\n",
       "      <th>5</th>\n",
       "      <td>6.283130</td>\n",
       "      <td>0.096414</td>\n",
       "      <td>0.000003</td>\n",
       "      <td>modular</td>\n",
       "      <td>SL-2020</td>\n",
       "      <td>source specifies \"modular\" as 12x50-MW capacity</td>\n",
       "    </tr>\n",
       "    <tr>\n",
       "      <th>6</th>\n",
       "      <td>6.507052</td>\n",
       "      <td>0.109761</td>\n",
       "      <td>0.000003</td>\n",
       "      <td>advanced</td>\n",
       "      <td>EIA-2016</td>\n",
       "      <td>source only gives values for \"advanced\" nuclear</td>\n",
       "    </tr>\n",
       "  </tbody>\n",
       "</table>\n",
       "</div>"
      ],
      "text/plain": [
       "    capital     fixed  variable      type    source  \\\n",
       "0       NaN  0.057347  0.000028       PWR  NEI-2018   \n",
       "1       NaN  0.057260  0.000030       BWR  NEI-2018   \n",
       "2  4.313245       NaN       NaN       LWR  IEA-2020   \n",
       "3  4.544496       NaN  0.000028       PWR  WNA-2017   \n",
       "4  6.130897  0.123450  0.000002  advanced   SL-2020   \n",
       "5  6.283130  0.096414  0.000003   modular   SL-2020   \n",
       "6  6.507052  0.109761  0.000003  advanced  EIA-2016   \n",
       "\n",
       "                                               notes  \n",
       "0  calculated from assumptions tabulated in cost_...  \n",
       "1  calculated from assumptions tabulated in cost_...  \n",
       "2  source does not give annual fixed or variable ...  \n",
       "3             source does not give annual fixed cost  \n",
       "4             source specifies \"advanced\" as AP-1000  \n",
       "5    source specifies \"modular\" as 12x50-MW capacity  \n",
       "6    source only gives values for \"advanced\" nuclear  "
      ]
     },
     "execution_count": 20,
     "metadata": {},
     "output_type": "execute_result"
    }
   ],
   "source": [
    "nuclear_pd = {'capital':[np.nan,np.nan,\n",
    "                         cc_iea,\n",
    "                         cc_wna_pwr,\n",
    "                         cc_sl_adv, cc_sl_smr,\n",
    "                         cc_eia],  # M$/MW\n",
    "              'fixed':[om_nei_pwr_fix,om_nei_bwr_fix,\n",
    "                       np.nan,\n",
    "                       np.nan,\n",
    "                       om_sl_adv_fix, om_sl_smr_fix,\n",
    "                       om_eia_fix],  # M$/MW-year\n",
    "              'variable':[om_nei_pwr_total, om_nei_bwr_total,\n",
    "                          np.nan,\n",
    "                          om_total_wna,\n",
    "                          om_sl_adv_var, om_sl_smr_var,\n",
    "                          om_eia_var],  # M$/MWh\n",
    "              'type':['PWR', 'BWR',\n",
    "                      'LWR',\n",
    "                      'PWR',\n",
    "                      'advanced', 'modular',\n",
    "                      'advanced'],  # BWR, PWR, advanced, modular\n",
    "              'source':['NEI-2018','NEI-2018',\n",
    "                        'IEA-2020',\n",
    "                        'WNA-2017',\n",
    "                        'SL-2020', 'SL-2020',\n",
    "                        'EIA-2016'],\n",
    "              'notes':['calculated from assumptions tabulated in cost_analysis.ipynb',\n",
    "                       'calculated from assumptions tabulated in cost_analysis.ipynb',\n",
    "                       'source does not give annual fixed or variable costs',\n",
    "                       'source does not give annual fixed cost',\n",
    "                       'source specifies \\\"advanced\\\" as AP-1000',\n",
    "                       'source specifies \\\"modular\\\" as 12x50-MW capacity',\n",
    "                       'source only gives values for \\\"advanced\\\" nuclear']\n",
    "             }  \n",
    "\n",
    "nuclear_df = pd.DataFrame(nuclear_pd)\n",
    "nuclear_df"
   ]
  },
  {
   "cell_type": "markdown",
   "metadata": {},
   "source": [
    "## Natural Gas Plants"
   ]
  },
  {
   "cell_type": "markdown",
   "metadata": {},
   "source": [
    "Sources: (EIA, 2016) same as above, (Sargent and Lundy, 2020) same as above\n",
    "\n",
    "For new natural gas builds, I assume \"Natural Gas Combined Cycle.\""
   ]
  },
  {
   "cell_type": "code",
   "execution_count": 21,
   "metadata": {},
   "outputs": [
    {
     "name": "stdout",
     "output_type": "stream",
     "text": [
      "According to Sargent and Lundy: NGCC\n",
      "Capital Cost: 0.9722562121534553; Fixed Cost: 0.012381550927215192; Variable Cost: 1.8978278880239683e-06\n",
      "According to EIA: NGCC\n",
      "Capital Cost: 1.0704620402664526; Fixed Cost: 0.012039961598088934; Variable Cost: 3.830896872119206e-06\n"
     ]
    }
   ],
   "source": [
    "cc_sl_ngcc = inflate(958, 2020)*1000/1e6  # M$/MW\n",
    "om_sl_fix_ngcc = inflate(12.20, 2020)*1000/1e6  # M$/MW-year\n",
    "om_sl_var_ngcc = inflate(1.87, 2020)/1e6 # M$/MWh\n",
    "\n",
    "cc_eia_ngcc = inflate(978, 2016)*1000/1e6  # M$/MW\n",
    "om_eia_fix_ngcc = inflate(11, 2016)*1000/1e6  # M$/MW-year\n",
    "om_eia_var_ngcc = inflate(3.5, 2016)/1e6  # M$/MWh\n",
    "\n",
    "print(f\"According to Sargent and Lundy: NGCC\")\n",
    "print(f\"Capital Cost: {cc_sl_ngcc}; Fixed Cost: {om_sl_fix_ngcc}; Variable Cost: {om_sl_var_ngcc}\")\n",
    "print(f\"According to EIA: NGCC\")\n",
    "print(f\"Capital Cost: {cc_eia_ngcc}; Fixed Cost: {om_eia_fix_ngcc}; Variable Cost: {om_eia_var_ngcc}\")"
   ]
  },
  {
   "cell_type": "markdown",
   "metadata": {},
   "source": [
    "## Onshore Wind Farms"
   ]
  },
  {
   "cell_type": "markdown",
   "metadata": {},
   "source": [
    "Sources: (EIA, 2016) same as above, (Sargent and Lundy, 2020) same as above, (IEA, 2020) same as above"
   ]
  },
  {
   "cell_type": "code",
   "execution_count": 22,
   "metadata": {},
   "outputs": [
    {
     "name": "stdout",
     "output_type": "stream",
     "text": [
      "According to Sargent and Lundy: Onshore Wind\n",
      "Capital Cost: 1.2838247477809197; Fixed Cost: 0.026731971428102307; Variable Cost: 0\n",
      "According to EIA: Onshore Wind\n",
      "Capital Cost: 2.054455265419357; Fixed Cost: 0.04345331594946642; Variable Cost: 0\n",
      "According to IEA: Onshore Wind\n",
      "Capital Cost: 1.9972862479311064; Fixed Cost: nan; Variable Cost: 0\n"
     ]
    }
   ],
   "source": [
    "cc_eia_onw = inflate(1877, 2016)*1000/1e6\n",
    "om_eia_fix_onw = inflate(39.7, 2016)*1000/1e6\n",
    "\n",
    "cc_sl_onw = inflate(1265, 2020)*1000/1e6\n",
    "om_sl_fix_onw = inflate(26.34, 2020)*1000/1e6\n",
    "\n",
    "cc_iea_onw = inflate(1968, 2020)*1000/1e6\n",
    "\n",
    "print(f\"According to Sargent and Lundy: Onshore Wind\")\n",
    "print(f\"Capital Cost: {cc_sl_onw}; Fixed Cost: {om_sl_fix_onw}; Variable Cost: {0}\")\n",
    "print(f\"According to EIA: Onshore Wind\")\n",
    "print(f\"Capital Cost: {cc_eia_onw}; Fixed Cost: {om_eia_fix_onw}; Variable Cost: {0}\")\n",
    "print(f\"According to IEA: Onshore Wind\")\n",
    "print(f\"Capital Cost: {cc_iea_onw}; Fixed Cost: {np.nan}; Variable Cost: {0}\")"
   ]
  },
  {
   "cell_type": "markdown",
   "metadata": {},
   "source": [
    "Since the IEA and S\\&L reports are equally recent, we will use an intermediate value for the capital cost."
   ]
  },
  {
   "cell_type": "code",
   "execution_count": 23,
   "metadata": {},
   "outputs": [
    {
     "name": "stdout",
     "output_type": "stream",
     "text": [
      "Mean capital cost for onshore windfarms 1.640555497856013\n"
     ]
    }
   ],
   "source": [
    "print(f\"Mean capital cost for onshore windfarms {(cc_iea_onw+cc_sl_onw)/2}\")"
   ]
  },
  {
   "cell_type": "markdown",
   "metadata": {},
   "source": [
    "## Solar Farms\n",
    "\n",
    "Sources: (EIA, 2016) same as above, (Sargent and Lundy, 2020) same as above, (IEA, 2020) same as above\n",
    "\n",
    "Assume single axis tracking"
   ]
  },
  {
   "cell_type": "code",
   "execution_count": 24,
   "metadata": {},
   "outputs": [
    {
     "name": "stdout",
     "output_type": "stream",
     "text": [
      "According to Sargent and Lundy: Solar Farm (Utility Scale)\n",
      "Capital Cost: 1.3325390465109468; Fixed Cost: 0.015476938659018993; Variable Cost: 0\n",
      "According to EIA: Solar Farm (Utility Scale)\n",
      "Capital Cost: 2.7735693354143054; Fixed Cost: 0.02386101480348534; Variable Cost: 0\n",
      "According to IEA: Solar Farm (Utility Scale)\n",
      "Capital Cost: 1.0879526716372694; Fixed Cost: nan; Variable Cost: 0\n"
     ]
    }
   ],
   "source": [
    "cc_eia_sol = inflate(2534, 2016)*1000/1e6\n",
    "om_eia_fix_sol = inflate(21.8, 2016)*1000/1e6\n",
    "\n",
    "cc_sl_sol = inflate(1313, 2020)*1000/1e6\n",
    "om_sl_fix_sol = inflate(15.25, 2020)*1000/1e6\n",
    "\n",
    "cc_iea_sol = inflate(1072, 2020)*1000/1e6\n",
    "\n",
    "print(f\"According to Sargent and Lundy: Solar Farm (Utility Scale)\")\n",
    "print(f\"Capital Cost: {cc_sl_sol}; Fixed Cost: {om_sl_fix_sol}; Variable Cost: {0}\")\n",
    "print(f\"According to EIA: Solar Farm (Utility Scale)\")\n",
    "print(f\"Capital Cost: {cc_eia_sol}; Fixed Cost: {om_eia_fix_sol}; Variable Cost: {0}\")\n",
    "print(f\"According to IEA: Solar Farm (Utility Scale)\")\n",
    "print(f\"Capital Cost: {cc_iea_sol}; Fixed Cost: {np.nan}; Variable Cost: {0}\")"
   ]
  },
  {
   "cell_type": "markdown",
   "metadata": {},
   "source": [
    "Since IEA doesn't specify if it's fixed or single axis tracking we will use the Sargent and Lundy values."
   ]
  },
  {
   "cell_type": "markdown",
   "metadata": {},
   "source": [
    "## Coal Plants\n",
    "\n",
    "Data about the annual fixed costs for conventional coal plants (i.e. not supercritical, no carbon capture) is difficult to find. Fortunately, most coal plants were built before 1990 and thus they are likely \"fully depreciated\" in 2021. Therefore we can use the LCOE estimate from [Lazard](https://www.lazard.com/perspective/levelized-cost-of-energy-and-levelized-cost-of-storage-2020/).\n",
    "\n",
    "Estimate for fully depreciated: \\$41/MWh\n",
    "\n",
    "\n",
    "#### New Coal\n",
    "For new coal plants, we assume ultra-supercritical with 90\\% carbon capture storage.\n",
    "\n",
    "Sources: (EIA, 2016) same as above, (Sargent and Lundy, 2020) same as above, (IEA, 2020) same as above"
   ]
  },
  {
   "cell_type": "code",
   "execution_count": 25,
   "metadata": {},
   "outputs": [
    {
     "name": "stdout",
     "output_type": "stream",
     "text": [
      "4.1610130165231387e-05\n"
     ]
    }
   ],
   "source": [
    "lcoe_coal_laz = inflate(41, 2020)/1e6\n",
    "print(lcoe_coal_laz)"
   ]
  },
  {
   "cell_type": "code",
   "execution_count": 26,
   "metadata": {},
   "outputs": [
    {
     "name": "stdout",
     "output_type": "stream",
     "text": [
      "According to Sargent and Lundy: Coal (UCS/CCS)\n",
      "Capital Cost: 5.963442069534138; Fixed Cost: 0.0604260280497043; Variable Cost: 1.1143395834493673e-05\n",
      "According to EIA: Solar Farm (Utility Scale)\n",
      "Capital Cost: 5.564651342244013; Fixed Cost: 0.07661793744238413; Variable Cost: 0.0077712479405846755\n",
      "According to IEA: Solar Farm (Utility Scale)\n",
      "Capital Cost: 6.080153410241494; Fixed Cost: nan; Variable Cost: nan\n"
     ]
    }
   ],
   "source": [
    "cc_eia_coal = inflate(5084, 2016)*1000/1e6\n",
    "om_eia_fix_coal = inflate(70, 2016)*1000/1e6\n",
    "om_eia_var_coal = inflate(7.1, 2016)*1000/1e6\n",
    "\n",
    "cc_sl_coal = inflate(5876, 2020)*1000/1e6\n",
    "om_sl_fix_coal = inflate(59.54, 2020)*1000/1e6\n",
    "om_sl_var_coal = inflate(10.98, 2020)/1e6\n",
    "\n",
    "cc_iea_coal = inflate(5991, 2020)*1000/1e6\n",
    "\n",
    "print(f\"According to Sargent and Lundy: Coal (UCS/CCS)\")\n",
    "print(f\"Capital Cost: {cc_sl_coal}; Fixed Cost: {om_sl_fix_coal}; Variable Cost: {om_sl_var_coal}\")\n",
    "print(f\"According to EIA: Solar Farm (Utility Scale)\")\n",
    "print(f\"Capital Cost: {cc_eia_coal}; Fixed Cost: {om_eia_fix_coal}; Variable Cost: {om_eia_var_coal}\")\n",
    "print(f\"According to IEA: Solar Farm (Utility Scale)\")\n",
    "print(f\"Capital Cost: {cc_iea_coal}; Fixed Cost: {np.nan}; Variable Cost: {np.nan}\")"
   ]
  },
  {
   "cell_type": "code",
   "execution_count": null,
   "metadata": {},
   "outputs": [],
   "source": []
  }
 ],
 "metadata": {
  "kernelspec": {
   "display_name": "Python 3",
   "language": "python",
   "name": "python3"
  },
  "language_info": {
   "codemirror_mode": {
    "name": "ipython",
    "version": 3
   },
   "file_extension": ".py",
   "mimetype": "text/x-python",
   "name": "python",
   "nbconvert_exporter": "python",
   "pygments_lexer": "ipython3",
   "version": "3.7.6"
  }
 },
 "nbformat": 4,
 "nbformat_minor": 4
}
