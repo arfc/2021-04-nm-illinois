{
 "cells": [
  {
   "cell_type": "markdown",
   "metadata": {},
   "source": [
    "# Analysis of Capital, Fixed, and Variable Costs for Various Generation Types"
   ]
  },
  {
   "cell_type": "code",
   "execution_count": 1,
   "metadata": {},
   "outputs": [],
   "source": [
    "import numpy as np\n",
    "import pandas as pd\n",
    "import matplotlib.pyplot as plt"
   ]
  },
  {
   "cell_type": "markdown",
   "metadata": {},
   "source": [
    "Many of these reports are from previous years, so we should account for this by adjusting for inflation. \n",
    "We can do this with the ``cpi`` (consumer price index) from the Bureau of Labor Statistics.\n",
    "\n",
    "$$ P_{adj} = \\frac{P_{old} \\cdot CPI_{present}}{CPI_{old}} $$"
   ]
  },
  {
   "cell_type": "markdown",
   "metadata": {},
   "source": [
    "We can retreive the consumer price index data from the Bureau of Labor Statistics. The usual values for inflation calculations are the \"All Urban Consumers (CU)\" survey. The code for this is \"CUUR0000SA0\". "
   ]
  },
  {
   "cell_type": "code",
   "execution_count": 2,
   "metadata": {},
   "outputs": [],
   "source": [
    "url = \"https://download.bls.gov/pub/time.series/cu/cu.data.0.Current\"\n",
    "cpi_data = pd.read_csv(url, sep='\\t')"
   ]
  },
  {
   "cell_type": "code",
   "execution_count": 3,
   "metadata": {},
   "outputs": [
    {
     "data": {
      "text/plain": [
       "'series_id        '"
      ]
     },
     "execution_count": 3,
     "metadata": {},
     "output_type": "execute_result"
    }
   ],
   "source": [
    "cpi_key = cpi_data.keys()[0]\n",
    "cpi_key"
   ]
  },
  {
   "cell_type": "code",
   "execution_count": 4,
   "metadata": {},
   "outputs": [
    {
     "data": {
      "text/plain": [
       "'CUSR0000SA0      '"
      ]
     },
     "execution_count": 4,
     "metadata": {},
     "output_type": "execute_result"
    }
   ],
   "source": [
    "cu = list(cpi_data[cpi_key])[0]\n",
    "cu"
   ]
  },
  {
   "cell_type": "code",
   "execution_count": 5,
   "metadata": {},
   "outputs": [],
   "source": [
    "cpi_u = cpi_data[cpi_key] == cu\n",
    "cpi_data = cpi_data[cpi_u]"
   ]
  },
  {
   "cell_type": "code",
   "execution_count": 6,
   "metadata": {},
   "outputs": [
    {
     "data": {
      "text/html": [
       "<div>\n",
       "<style scoped>\n",
       "    .dataframe tbody tr th:only-of-type {\n",
       "        vertical-align: middle;\n",
       "    }\n",
       "\n",
       "    .dataframe tbody tr th {\n",
       "        vertical-align: top;\n",
       "    }\n",
       "\n",
       "    .dataframe thead th {\n",
       "        text-align: right;\n",
       "    }\n",
       "</style>\n",
       "<table border=\"1\" class=\"dataframe\">\n",
       "  <thead>\n",
       "    <tr style=\"text-align: right;\">\n",
       "      <th></th>\n",
       "      <th>series_id</th>\n",
       "      <th>year</th>\n",
       "      <th>period</th>\n",
       "      <th>value</th>\n",
       "      <th>footnote_codes</th>\n",
       "    </tr>\n",
       "    <tr>\n",
       "      <th>year</th>\n",
       "      <th></th>\n",
       "      <th></th>\n",
       "      <th></th>\n",
       "      <th></th>\n",
       "      <th></th>\n",
       "    </tr>\n",
       "  </thead>\n",
       "  <tbody>\n",
       "    <tr>\n",
       "      <th>1997-01-01</th>\n",
       "      <td>CUSR0000SA0</td>\n",
       "      <td>1997</td>\n",
       "      <td>M01</td>\n",
       "      <td>159.400</td>\n",
       "      <td>NaN</td>\n",
       "    </tr>\n",
       "    <tr>\n",
       "      <th>1997-01-01</th>\n",
       "      <td>CUSR0000SA0</td>\n",
       "      <td>1997</td>\n",
       "      <td>M02</td>\n",
       "      <td>159.700</td>\n",
       "      <td>NaN</td>\n",
       "    </tr>\n",
       "    <tr>\n",
       "      <th>1997-01-01</th>\n",
       "      <td>CUSR0000SA0</td>\n",
       "      <td>1997</td>\n",
       "      <td>M03</td>\n",
       "      <td>159.800</td>\n",
       "      <td>NaN</td>\n",
       "    </tr>\n",
       "    <tr>\n",
       "      <th>1997-01-01</th>\n",
       "      <td>CUSR0000SA0</td>\n",
       "      <td>1997</td>\n",
       "      <td>M04</td>\n",
       "      <td>159.900</td>\n",
       "      <td>NaN</td>\n",
       "    </tr>\n",
       "    <tr>\n",
       "      <th>1997-01-01</th>\n",
       "      <td>CUSR0000SA0</td>\n",
       "      <td>1997</td>\n",
       "      <td>M05</td>\n",
       "      <td>159.900</td>\n",
       "      <td>NaN</td>\n",
       "    </tr>\n",
       "    <tr>\n",
       "      <th>...</th>\n",
       "      <td>...</td>\n",
       "      <td>...</td>\n",
       "      <td>...</td>\n",
       "      <td>...</td>\n",
       "      <td>...</td>\n",
       "    </tr>\n",
       "    <tr>\n",
       "      <th>2020-01-01</th>\n",
       "      <td>CUSR0000SA0</td>\n",
       "      <td>2020</td>\n",
       "      <td>M11</td>\n",
       "      <td>260.927</td>\n",
       "      <td>NaN</td>\n",
       "    </tr>\n",
       "    <tr>\n",
       "      <th>2020-01-01</th>\n",
       "      <td>CUSR0000SA0</td>\n",
       "      <td>2020</td>\n",
       "      <td>M12</td>\n",
       "      <td>261.560</td>\n",
       "      <td>NaN</td>\n",
       "    </tr>\n",
       "    <tr>\n",
       "      <th>2021-01-01</th>\n",
       "      <td>CUSR0000SA0</td>\n",
       "      <td>2021</td>\n",
       "      <td>M01</td>\n",
       "      <td>262.231</td>\n",
       "      <td>NaN</td>\n",
       "    </tr>\n",
       "    <tr>\n",
       "      <th>2021-01-01</th>\n",
       "      <td>CUSR0000SA0</td>\n",
       "      <td>2021</td>\n",
       "      <td>M02</td>\n",
       "      <td>263.161</td>\n",
       "      <td>NaN</td>\n",
       "    </tr>\n",
       "    <tr>\n",
       "      <th>2021-01-01</th>\n",
       "      <td>CUSR0000SA0</td>\n",
       "      <td>2021</td>\n",
       "      <td>M03</td>\n",
       "      <td>264.793</td>\n",
       "      <td>NaN</td>\n",
       "    </tr>\n",
       "  </tbody>\n",
       "</table>\n",
       "<p>291 rows × 5 columns</p>\n",
       "</div>"
      ],
      "text/plain": [
       "            series_id          year period         value  footnote_codes\n",
       "year                                                                    \n",
       "1997-01-01  CUSR0000SA0        1997    M01       159.400             NaN\n",
       "1997-01-01  CUSR0000SA0        1997    M02       159.700             NaN\n",
       "1997-01-01  CUSR0000SA0        1997    M03       159.800             NaN\n",
       "1997-01-01  CUSR0000SA0        1997    M04       159.900             NaN\n",
       "1997-01-01  CUSR0000SA0        1997    M05       159.900             NaN\n",
       "...                       ...   ...    ...           ...             ...\n",
       "2020-01-01  CUSR0000SA0        2020    M11       260.927             NaN\n",
       "2020-01-01  CUSR0000SA0        2020    M12       261.560             NaN\n",
       "2021-01-01  CUSR0000SA0        2021    M01       262.231             NaN\n",
       "2021-01-01  CUSR0000SA0        2021    M02       263.161             NaN\n",
       "2021-01-01  CUSR0000SA0        2021    M03       264.793             NaN\n",
       "\n",
       "[291 rows x 5 columns]"
      ]
     },
     "execution_count": 6,
     "metadata": {},
     "output_type": "execute_result"
    }
   ],
   "source": [
    "cpi_data.index = pd.to_datetime(cpi_data.iloc[:,1], format='%Y')\n",
    "cpi_data"
   ]
  },
  {
   "cell_type": "code",
   "execution_count": 7,
   "metadata": {},
   "outputs": [
    {
     "data": {
      "text/html": [
       "<div>\n",
       "<style scoped>\n",
       "    .dataframe tbody tr th:only-of-type {\n",
       "        vertical-align: middle;\n",
       "    }\n",
       "\n",
       "    .dataframe tbody tr th {\n",
       "        vertical-align: top;\n",
       "    }\n",
       "\n",
       "    .dataframe thead th {\n",
       "        text-align: right;\n",
       "    }\n",
       "</style>\n",
       "<table border=\"1\" class=\"dataframe\">\n",
       "  <thead>\n",
       "    <tr style=\"text-align: right;\">\n",
       "      <th></th>\n",
       "      <th>year</th>\n",
       "      <th>value</th>\n",
       "      <th>footnote_codes</th>\n",
       "    </tr>\n",
       "    <tr>\n",
       "      <th>year</th>\n",
       "      <th></th>\n",
       "      <th></th>\n",
       "      <th></th>\n",
       "    </tr>\n",
       "  </thead>\n",
       "  <tbody>\n",
       "    <tr>\n",
       "      <th>1997-12-31</th>\n",
       "      <td>1997</td>\n",
       "      <td>160.525000</td>\n",
       "      <td>NaN</td>\n",
       "    </tr>\n",
       "    <tr>\n",
       "      <th>1998-12-31</th>\n",
       "      <td>1998</td>\n",
       "      <td>163.008333</td>\n",
       "      <td>NaN</td>\n",
       "    </tr>\n",
       "    <tr>\n",
       "      <th>1999-12-31</th>\n",
       "      <td>1999</td>\n",
       "      <td>166.583333</td>\n",
       "      <td>NaN</td>\n",
       "    </tr>\n",
       "    <tr>\n",
       "      <th>2000-12-31</th>\n",
       "      <td>2000</td>\n",
       "      <td>172.191667</td>\n",
       "      <td>NaN</td>\n",
       "    </tr>\n",
       "    <tr>\n",
       "      <th>2001-12-31</th>\n",
       "      <td>2001</td>\n",
       "      <td>177.041667</td>\n",
       "      <td>NaN</td>\n",
       "    </tr>\n",
       "    <tr>\n",
       "      <th>2002-12-31</th>\n",
       "      <td>2002</td>\n",
       "      <td>179.866667</td>\n",
       "      <td>NaN</td>\n",
       "    </tr>\n",
       "    <tr>\n",
       "      <th>2003-12-31</th>\n",
       "      <td>2003</td>\n",
       "      <td>184.000000</td>\n",
       "      <td>NaN</td>\n",
       "    </tr>\n",
       "    <tr>\n",
       "      <th>2004-12-31</th>\n",
       "      <td>2004</td>\n",
       "      <td>188.908333</td>\n",
       "      <td>NaN</td>\n",
       "    </tr>\n",
       "    <tr>\n",
       "      <th>2005-12-31</th>\n",
       "      <td>2005</td>\n",
       "      <td>195.266667</td>\n",
       "      <td>NaN</td>\n",
       "    </tr>\n",
       "    <tr>\n",
       "      <th>2006-12-31</th>\n",
       "      <td>2006</td>\n",
       "      <td>201.558333</td>\n",
       "      <td>NaN</td>\n",
       "    </tr>\n",
       "    <tr>\n",
       "      <th>2007-12-31</th>\n",
       "      <td>2007</td>\n",
       "      <td>207.344167</td>\n",
       "      <td>NaN</td>\n",
       "    </tr>\n",
       "    <tr>\n",
       "      <th>2008-12-31</th>\n",
       "      <td>2008</td>\n",
       "      <td>215.254250</td>\n",
       "      <td>NaN</td>\n",
       "    </tr>\n",
       "    <tr>\n",
       "      <th>2009-12-31</th>\n",
       "      <td>2009</td>\n",
       "      <td>214.564667</td>\n",
       "      <td>NaN</td>\n",
       "    </tr>\n",
       "    <tr>\n",
       "      <th>2010-12-31</th>\n",
       "      <td>2010</td>\n",
       "      <td>218.076167</td>\n",
       "      <td>NaN</td>\n",
       "    </tr>\n",
       "    <tr>\n",
       "      <th>2011-12-31</th>\n",
       "      <td>2011</td>\n",
       "      <td>224.923000</td>\n",
       "      <td>NaN</td>\n",
       "    </tr>\n",
       "    <tr>\n",
       "      <th>2012-12-31</th>\n",
       "      <td>2012</td>\n",
       "      <td>229.586083</td>\n",
       "      <td>NaN</td>\n",
       "    </tr>\n",
       "    <tr>\n",
       "      <th>2013-12-31</th>\n",
       "      <td>2013</td>\n",
       "      <td>232.951750</td>\n",
       "      <td>NaN</td>\n",
       "    </tr>\n",
       "    <tr>\n",
       "      <th>2014-12-31</th>\n",
       "      <td>2014</td>\n",
       "      <td>236.715000</td>\n",
       "      <td>NaN</td>\n",
       "    </tr>\n",
       "    <tr>\n",
       "      <th>2015-12-31</th>\n",
       "      <td>2015</td>\n",
       "      <td>237.001750</td>\n",
       "      <td>NaN</td>\n",
       "    </tr>\n",
       "    <tr>\n",
       "      <th>2016-12-31</th>\n",
       "      <td>2016</td>\n",
       "      <td>240.005417</td>\n",
       "      <td>NaN</td>\n",
       "    </tr>\n",
       "    <tr>\n",
       "      <th>2017-12-31</th>\n",
       "      <td>2017</td>\n",
       "      <td>245.135500</td>\n",
       "      <td>NaN</td>\n",
       "    </tr>\n",
       "    <tr>\n",
       "      <th>2018-12-31</th>\n",
       "      <td>2018</td>\n",
       "      <td>251.102333</td>\n",
       "      <td>NaN</td>\n",
       "    </tr>\n",
       "    <tr>\n",
       "      <th>2019-12-31</th>\n",
       "      <td>2019</td>\n",
       "      <td>255.652583</td>\n",
       "      <td>NaN</td>\n",
       "    </tr>\n",
       "    <tr>\n",
       "      <th>2020-12-31</th>\n",
       "      <td>2020</td>\n",
       "      <td>258.844083</td>\n",
       "      <td>NaN</td>\n",
       "    </tr>\n",
       "    <tr>\n",
       "      <th>2021-12-31</th>\n",
       "      <td>2021</td>\n",
       "      <td>263.395000</td>\n",
       "      <td>NaN</td>\n",
       "    </tr>\n",
       "  </tbody>\n",
       "</table>\n",
       "</div>"
      ],
      "text/plain": [
       "            year         value  footnote_codes\n",
       "year                                          \n",
       "1997-12-31  1997    160.525000             NaN\n",
       "1998-12-31  1998    163.008333             NaN\n",
       "1999-12-31  1999    166.583333             NaN\n",
       "2000-12-31  2000    172.191667             NaN\n",
       "2001-12-31  2001    177.041667             NaN\n",
       "2002-12-31  2002    179.866667             NaN\n",
       "2003-12-31  2003    184.000000             NaN\n",
       "2004-12-31  2004    188.908333             NaN\n",
       "2005-12-31  2005    195.266667             NaN\n",
       "2006-12-31  2006    201.558333             NaN\n",
       "2007-12-31  2007    207.344167             NaN\n",
       "2008-12-31  2008    215.254250             NaN\n",
       "2009-12-31  2009    214.564667             NaN\n",
       "2010-12-31  2010    218.076167             NaN\n",
       "2011-12-31  2011    224.923000             NaN\n",
       "2012-12-31  2012    229.586083             NaN\n",
       "2013-12-31  2013    232.951750             NaN\n",
       "2014-12-31  2014    236.715000             NaN\n",
       "2015-12-31  2015    237.001750             NaN\n",
       "2016-12-31  2016    240.005417             NaN\n",
       "2017-12-31  2017    245.135500             NaN\n",
       "2018-12-31  2018    251.102333             NaN\n",
       "2019-12-31  2019    255.652583             NaN\n",
       "2020-12-31  2020    258.844083             NaN\n",
       "2021-12-31  2021    263.395000             NaN"
      ]
     },
     "execution_count": 7,
     "metadata": {},
     "output_type": "execute_result"
    }
   ],
   "source": [
    "cpi_average = cpi_data.resample('Y').mean()\n",
    "cpi_average"
   ]
  },
  {
   "cell_type": "code",
   "execution_count": 8,
   "metadata": {},
   "outputs": [],
   "source": [
    "target_year = 2021\n",
    "cpi_current = cpi_average[cpi_average.iloc[:,0]==target_year].iloc[:,1]"
   ]
  },
  {
   "cell_type": "code",
   "execution_count": 9,
   "metadata": {},
   "outputs": [],
   "source": [
    "def inflate(p_old, start_year, target_year=2021):\n",
    "    \"\"\"\n",
    "    This function calculates the inflated value of an item\n",
    "    based on the Consumer Price Index from the Bureau of \n",
    "    Labor Statistics.\n",
    "    \n",
    "    Parameters\n",
    "    ----------\n",
    "    p_old : float\n",
    "        The old price or value of an item. I.e. the price of\n",
    "        the item at the starting year.\n",
    "    start_year : integer\n",
    "        The year from which you would like to inflate. E.g.\n",
    "        the price of milk in 1997 inflated to today's dollars.\n",
    "    target_year : integer\n",
    "        The target year you would like to inflate to. E.g.\n",
    "        the price of milk in 1997 inflated to 2021 dollars.\n",
    "        Default is 2021.\n",
    "        \n",
    "    Returns\n",
    "    -------\n",
    "    p_adj : float\n",
    "        The price adjusted for inflation.\n",
    "    \"\"\"\n",
    "    \n",
    "    cpi_current = float(cpi_average[cpi_average.iloc[:,0]==target_year].iloc[:,1])    \n",
    "    cpi_old = float(cpi_average[cpi_average.iloc[:,0]==start_year].iloc[:,1])\n",
    "    \n",
    "    p_adj = (p_old*cpi_current)/cpi_old\n",
    "    \n",
    "    return p_adj"
   ]
  },
  {
   "cell_type": "code",
   "execution_count": 10,
   "metadata": {},
   "outputs": [
    {
     "data": {
      "text/plain": [
       "1.0"
      ]
     },
     "execution_count": 10,
     "metadata": {},
     "output_type": "execute_result"
    }
   ],
   "source": [
    "inflate(1.00, 2017, 2017)"
   ]
  },
  {
   "cell_type": "code",
   "execution_count": 11,
   "metadata": {},
   "outputs": [
    {
     "data": {
      "text/plain": [
       "1.0559224728092558"
      ]
     },
     "execution_count": 11,
     "metadata": {},
     "output_type": "execute_result"
    }
   ],
   "source": [
    "inflate(1.00, 2017, 2020)"
   ]
  },
  {
   "cell_type": "code",
   "execution_count": 12,
   "metadata": {},
   "outputs": [
    {
     "data": {
      "text/plain": [
       "0.6548419139618701"
      ]
     },
     "execution_count": 12,
     "metadata": {},
     "output_type": "execute_result"
    }
   ],
   "source": [
    "inflate(1.00, 2017, 1997)"
   ]
  },
  {
   "cell_type": "markdown",
   "metadata": {},
   "source": [
    "## Nuclear Plants"
   ]
  },
  {
   "cell_type": "markdown",
   "metadata": {},
   "source": [
    "\"Nuclear Costs in Context\" (NEI, 2018)\n",
    "\n",
    "This document gives a cost summary for each of fuel, capital, and operating costs in \\$/MWh. This is \n",
    "helpful for variable operating costs. But we cannot reliably convert these into fixed values required for capital and fixed annual costs. "
   ]
  },
  {
   "cell_type": "code",
   "execution_count": 13,
   "metadata": {},
   "outputs": [
    {
     "name": "stdout",
     "output_type": "stream",
     "text": [
      "6.683311474674212e-06\n",
      "7.037892308539563e-06\n"
     ]
    }
   ],
   "source": [
    "fuel_nei_bwr = inflate(6.22, 2017)/1e6  # M$/MWh\n",
    "fuel_nei_pwr = inflate(6.55, 2017)/1e6  # M$/MWh\n",
    "print(fuel_nei_bwr);print(fuel_nei_pwr)"
   ]
  },
  {
   "cell_type": "code",
   "execution_count": 14,
   "metadata": {},
   "outputs": [
    {
     "name": "stdout",
     "output_type": "stream",
     "text": [
      "2.988149390847103e-05\n",
      "2.8323487214214184e-05\n"
     ]
    }
   ],
   "source": [
    "om_nei_bwr_total = inflate(27.81, 2017)/1e6  # M$/MWh\n",
    "om_nei_pwr_total = inflate(26.36, 2017)/1e6  # M$/MWh\n",
    "print(om_nei_bwr_total);print(om_nei_pwr_total)"
   ]
  },
  {
   "cell_type": "markdown",
   "metadata": {},
   "source": [
    "\"Projected Costs of Generating Electricity\" (IEA, 2020)\n",
    "\n",
    "This document only gives a cost summary for overnight capital costs in \\$/kWe. This is helpful for investment costs but gives no indication for annual fixed costs. It also does not distinguish between PWR and BWR for the United States.\n",
    "\n",
    "It DOES give values for capital costs required for license renewals (if we were to incorporate this, I believe we should implement as an additional annual fixed cost, dividing by the life of the extension). "
   ]
  },
  {
   "cell_type": "code",
   "execution_count": 15,
   "metadata": {},
   "outputs": [
    {
     "name": "stdout",
     "output_type": "stream",
     "text": [
      "4.324722186361225\n"
     ]
    }
   ],
   "source": [
    "# New Build for Nuclear\n",
    "cc_iea = inflate(4250, 2020)*1000/1e6  # M$/MW\n",
    "print(cc_iea)"
   ]
  },
  {
   "cell_type": "markdown",
   "metadata": {},
   "source": [
    "\"Nuclear Power Economics and Project Structuring\" (WNA, 2017)\n",
    "\n",
    "This document gives OM and Fuel Costs (cents per kWh) as well as estimated capital cost -- assumes PWR"
   ]
  },
  {
   "cell_type": "code",
   "execution_count": 16,
   "metadata": {},
   "outputs": [
    {
     "name": "stdout",
     "output_type": "stream",
     "text": [
      "2.8105084851260213e-05\n",
      "4.556588717171921\n"
     ]
    }
   ],
   "source": [
    "om_total_wna = inflate(0.024, 2011)*1000/1e6  # M$/MWh\n",
    "cc_wna_pwr = inflate(4100, 2015)*1000/1e6  # M$/MW\n",
    "print(om_total_wna);print(cc_wna_pwr)"
   ]
  },
  {
   "cell_type": "markdown",
   "metadata": {},
   "source": [
    "\"Capital Costs and Performance Characteristics for Utility Scale Power Generating Technologies\" (Sargent and Lundy, 2020)\n",
    "\n",
    "\n",
    "This document gives capital cost, dollars/kW, variable OM, dollars/MWh, and fixed OM, \\$ /kW-year. However, not for current technology in the U.S. Estimates for \"advanced\" (AP-1000) and \"modular\" (small modular reactors, 50 MW).\n",
    "\n",
    "Also provided: Specific emissions information (NOx, SOx, CO2)"
   ]
  },
  {
   "cell_type": "code",
   "execution_count": 17,
   "metadata": {},
   "outputs": [
    {
     "name": "stdout",
     "output_type": "stream",
     "text": [
      "6.147210994778389\n",
      "6.299848248414667\n",
      "0.12377863688211277\n",
      "0.0966702606363097\n",
      "2.4116686074532e-06\n",
      "3.0527450727255697e-06\n"
     ]
    }
   ],
   "source": [
    "cc_sl_adv = inflate(6041, 2020)*1000/1e6  # M$/MW\n",
    "cc_sl_smr = inflate(6191, 2020)*1000/1e6  # M$/MW\n",
    "print(cc_sl_adv);print(cc_sl_smr)\n",
    "om_sl_adv_fix = inflate(121.64, 2020)*1000/1e6  # M$/MW-year\n",
    "om_sl_smr_fix = inflate(95.00, 2020)*1000/1e6  # M$/MW-year\n",
    "print(om_sl_adv_fix);print(om_sl_smr_fix)\n",
    "om_sl_adv_var = inflate(2.37, 2020)/1e6  # M$/MWh\n",
    "om_sl_smr_var = inflate(3.00, 2020)/1e6  # M$/MWh\n",
    "print(om_sl_adv_var);print(om_sl_smr_var)"
   ]
  },
  {
   "cell_type": "markdown",
   "metadata": {},
   "source": [
    "Based on the values from the Sargent and Lundy report, we can make a reasonable guess about the \n",
    "annual fixed cost of a BWR or PWR from the NEI-2018 report.\n",
    "\n",
    "Assumptions:\n",
    "\n",
    "1. The \"capital\" cost in \\$/MWh corresponds to the annual \"fixed\" cost.\n",
    "2. The \"total operating\" cost in \\$/MWh corresponds to the \"variable\" cost.\n",
    "3. The average capacity factor is 92\\%. This will be used to convert MWh to MW"
   ]
  },
  {
   "cell_type": "code",
   "execution_count": 18,
   "metadata": {},
   "outputs": [
    {
     "name": "stdout",
     "output_type": "stream",
     "text": [
      "0.05741254238541542\n",
      "0.057499137471969594\n"
     ]
    }
   ],
   "source": [
    "mwh_to_mw = 8760*0.92\n",
    "om_nei_bwr_fix = inflate(6.63*mwh_to_mw, 2017)/1e6  # M$/MW-year\n",
    "om_nei_pwr_fix = inflate(6.64*mwh_to_mw, 2017)/1e6  # M$/MW-year\n",
    "print(om_nei_bwr_fix);print(om_nei_pwr_fix)"
   ]
  },
  {
   "cell_type": "markdown",
   "metadata": {},
   "source": [
    "\"Capital Cost Estimates for Utility Scale Electricity Generating Plants\" (EIA, 2016)\n",
    "\n",
    "This document gives\n",
    "* Overnight capital cost \\$/kW\n",
    "* Fixed OM cost \\$/kW-year\n",
    "* Variable OM cost \\$/MWh\n",
    "\n",
    "for \"advanced nuclear,\" presumably AP-1000"
   ]
  },
  {
   "cell_type": "code",
   "execution_count": 19,
   "metadata": {},
   "outputs": [
    {
     "name": "stdout",
     "output_type": "stream",
     "text": [
      "6.524366394508458\n",
      "0.11005272700442527\n",
      "2.524145114780396e-06\n"
     ]
    }
   ],
   "source": [
    "cc_eia = inflate(5945, 2016)*1000/1e6  # M$/MW\n",
    "print(cc_eia)\n",
    "om_eia_fix = inflate(100.28, 2016)*1000/1e6  # M$/MW-year\n",
    "print(om_eia_fix)\n",
    "om_eia_var = inflate(2.3, 2016)/1e6  # M$/MWh\n",
    "print(om_eia_var)"
   ]
  },
  {
   "cell_type": "code",
   "execution_count": 20,
   "metadata": {},
   "outputs": [
    {
     "data": {
      "text/html": [
       "<div>\n",
       "<style scoped>\n",
       "    .dataframe tbody tr th:only-of-type {\n",
       "        vertical-align: middle;\n",
       "    }\n",
       "\n",
       "    .dataframe tbody tr th {\n",
       "        vertical-align: top;\n",
       "    }\n",
       "\n",
       "    .dataframe thead th {\n",
       "        text-align: right;\n",
       "    }\n",
       "</style>\n",
       "<table border=\"1\" class=\"dataframe\">\n",
       "  <thead>\n",
       "    <tr style=\"text-align: right;\">\n",
       "      <th></th>\n",
       "      <th>capital</th>\n",
       "      <th>fixed</th>\n",
       "      <th>variable</th>\n",
       "      <th>type</th>\n",
       "      <th>source</th>\n",
       "      <th>notes</th>\n",
       "    </tr>\n",
       "  </thead>\n",
       "  <tbody>\n",
       "    <tr>\n",
       "      <th>0</th>\n",
       "      <td>NaN</td>\n",
       "      <td>0.057499</td>\n",
       "      <td>0.000028</td>\n",
       "      <td>PWR</td>\n",
       "      <td>NEI-2018</td>\n",
       "      <td>calculated from assumptions tabulated in cost_...</td>\n",
       "    </tr>\n",
       "    <tr>\n",
       "      <th>1</th>\n",
       "      <td>NaN</td>\n",
       "      <td>0.057413</td>\n",
       "      <td>0.000030</td>\n",
       "      <td>BWR</td>\n",
       "      <td>NEI-2018</td>\n",
       "      <td>calculated from assumptions tabulated in cost_...</td>\n",
       "    </tr>\n",
       "    <tr>\n",
       "      <th>2</th>\n",
       "      <td>4.324722</td>\n",
       "      <td>NaN</td>\n",
       "      <td>NaN</td>\n",
       "      <td>LWR</td>\n",
       "      <td>IEA-2020</td>\n",
       "      <td>source does not give annual fixed or variable ...</td>\n",
       "    </tr>\n",
       "    <tr>\n",
       "      <th>3</th>\n",
       "      <td>4.556589</td>\n",
       "      <td>NaN</td>\n",
       "      <td>0.000028</td>\n",
       "      <td>PWR</td>\n",
       "      <td>WNA-2017</td>\n",
       "      <td>source does not give annual fixed cost</td>\n",
       "    </tr>\n",
       "    <tr>\n",
       "      <th>4</th>\n",
       "      <td>6.147211</td>\n",
       "      <td>0.123779</td>\n",
       "      <td>0.000002</td>\n",
       "      <td>advanced</td>\n",
       "      <td>SL-2020</td>\n",
       "      <td>source specifies \"advanced\" as AP-1000</td>\n",
       "    </tr>\n",
       "    <tr>\n",
       "      <th>5</th>\n",
       "      <td>6.299848</td>\n",
       "      <td>0.096670</td>\n",
       "      <td>0.000003</td>\n",
       "      <td>modular</td>\n",
       "      <td>SL-2020</td>\n",
       "      <td>source specifies \"modular\" as 12x50-MW capacity</td>\n",
       "    </tr>\n",
       "    <tr>\n",
       "      <th>6</th>\n",
       "      <td>6.524366</td>\n",
       "      <td>0.110053</td>\n",
       "      <td>0.000003</td>\n",
       "      <td>advanced</td>\n",
       "      <td>EIA-2016</td>\n",
       "      <td>source only gives values for \"advanced\" nuclear</td>\n",
       "    </tr>\n",
       "  </tbody>\n",
       "</table>\n",
       "</div>"
      ],
      "text/plain": [
       "    capital     fixed  variable      type    source  \\\n",
       "0       NaN  0.057499  0.000028       PWR  NEI-2018   \n",
       "1       NaN  0.057413  0.000030       BWR  NEI-2018   \n",
       "2  4.324722       NaN       NaN       LWR  IEA-2020   \n",
       "3  4.556589       NaN  0.000028       PWR  WNA-2017   \n",
       "4  6.147211  0.123779  0.000002  advanced   SL-2020   \n",
       "5  6.299848  0.096670  0.000003   modular   SL-2020   \n",
       "6  6.524366  0.110053  0.000003  advanced  EIA-2016   \n",
       "\n",
       "                                               notes  \n",
       "0  calculated from assumptions tabulated in cost_...  \n",
       "1  calculated from assumptions tabulated in cost_...  \n",
       "2  source does not give annual fixed or variable ...  \n",
       "3             source does not give annual fixed cost  \n",
       "4             source specifies \"advanced\" as AP-1000  \n",
       "5    source specifies \"modular\" as 12x50-MW capacity  \n",
       "6    source only gives values for \"advanced\" nuclear  "
      ]
     },
     "execution_count": 20,
     "metadata": {},
     "output_type": "execute_result"
    }
   ],
   "source": [
    "nuclear_pd = {'capital':[np.nan,np.nan,\n",
    "                         cc_iea,\n",
    "                         cc_wna_pwr,\n",
    "                         cc_sl_adv, cc_sl_smr,\n",
    "                         cc_eia],  # M$/MW\n",
    "              'fixed':[om_nei_pwr_fix,om_nei_bwr_fix,\n",
    "                       np.nan,\n",
    "                       np.nan,\n",
    "                       om_sl_adv_fix, om_sl_smr_fix,\n",
    "                       om_eia_fix],  # M$/MW-year\n",
    "              'variable':[om_nei_pwr_total, om_nei_bwr_total,\n",
    "                          np.nan,\n",
    "                          om_total_wna,\n",
    "                          om_sl_adv_var, om_sl_smr_var,\n",
    "                          om_eia_var],  # M$/MWh\n",
    "              'type':['PWR', 'BWR',\n",
    "                      'LWR',\n",
    "                      'PWR',\n",
    "                      'advanced', 'modular',\n",
    "                      'advanced'],  # BWR, PWR, advanced, modular\n",
    "              'source':['NEI-2018','NEI-2018',\n",
    "                        'IEA-2020',\n",
    "                        'WNA-2017',\n",
    "                        'SL-2020', 'SL-2020',\n",
    "                        'EIA-2016'],\n",
    "              'notes':['calculated from assumptions tabulated in cost_analysis.ipynb',\n",
    "                       'calculated from assumptions tabulated in cost_analysis.ipynb',\n",
    "                       'source does not give annual fixed or variable costs',\n",
    "                       'source does not give annual fixed cost',\n",
    "                       'source specifies \\\"advanced\\\" as AP-1000',\n",
    "                       'source specifies \\\"modular\\\" as 12x50-MW capacity',\n",
    "                       'source only gives values for \\\"advanced\\\" nuclear']\n",
    "             }  \n",
    "\n",
    "nuclear_df = pd.DataFrame(nuclear_pd)\n",
    "nuclear_df"
   ]
  },
  {
   "cell_type": "markdown",
   "metadata": {},
   "source": [
    "## Natural Gas Plants"
   ]
  },
  {
   "cell_type": "markdown",
   "metadata": {},
   "source": [
    "Sources: (EIA, 2016) same as above, (Sargent and Lundy, 2020) same as above\n",
    "\n",
    "For new natural gas builds, I assume \"Natural Gas Combined Cycle.\""
   ]
  },
  {
   "cell_type": "code",
   "execution_count": 21,
   "metadata": {},
   "outputs": [
    {
     "name": "stdout",
     "output_type": "stream",
     "text": [
      "According to Sargent and Lundy: NGCC\n",
      "Capital Cost: 0.9748432598903651; Fixed Cost: 0.012414496629083982; Variable Cost: 1.9028777619989385e-06\n",
      "According to EIA: NGCC\n",
      "Capital Cost: 1.0733104009805337; Fixed Cost: 0.012071998375036676; Variable Cost: 3.841090392057124e-06\n"
     ]
    }
   ],
   "source": [
    "cc_sl_ngcc = inflate(958, 2020)*1000/1e6  # M$/MW\n",
    "om_sl_fix_ngcc = inflate(12.20, 2020)*1000/1e6  # M$/MW-year\n",
    "om_sl_var_ngcc = inflate(1.87, 2020)/1e6 # M$/MWh\n",
    "\n",
    "cc_eia_ngcc = inflate(978, 2016)*1000/1e6  # M$/MW\n",
    "om_eia_fix_ngcc = inflate(11, 2016)*1000/1e6  # M$/MW-year\n",
    "om_eia_var_ngcc = inflate(3.5, 2016)/1e6  # M$/MWh\n",
    "\n",
    "print(f\"According to Sargent and Lundy: NGCC\")\n",
    "print(f\"Capital Cost: {cc_sl_ngcc}; Fixed Cost: {om_sl_fix_ngcc}; Variable Cost: {om_sl_var_ngcc}\")\n",
    "print(f\"According to EIA: NGCC\")\n",
    "print(f\"Capital Cost: {cc_eia_ngcc}; Fixed Cost: {om_eia_fix_ngcc}; Variable Cost: {om_eia_var_ngcc}\")"
   ]
  },
  {
   "cell_type": "markdown",
   "metadata": {},
   "source": [
    "## Onshore Wind Farms"
   ]
  },
  {
   "cell_type": "markdown",
   "metadata": {},
   "source": [
    "Sources: (EIA, 2016) same as above, (Sargent and Lundy, 2020) same as above, (IEA, 2020) same as above"
   ]
  },
  {
   "cell_type": "code",
   "execution_count": 22,
   "metadata": {},
   "outputs": [
    {
     "name": "stdout",
     "output_type": "stream",
     "text": [
      "According to Sargent and Lundy: Onshore Wind\n",
      "Capital Cost: 1.2872408389992818; Fixed Cost: 0.026803101738530503; Variable Cost: 0\n",
      "According to EIA: Onshore Wind\n",
      "Capital Cost: 2.0599219045403494; Fixed Cost: 0.043568939589905105; Variable Cost: 0\n",
      "According to IEA: Onshore Wind\n",
      "Capital Cost: 2.002600767707974; Fixed Cost: nan; Variable Cost: 0\n"
     ]
    }
   ],
   "source": [
    "cc_eia_onw = inflate(1877, 2016)*1000/1e6\n",
    "om_eia_fix_onw = inflate(39.7, 2016)*1000/1e6\n",
    "\n",
    "cc_sl_onw = inflate(1265, 2020)*1000/1e6\n",
    "om_sl_fix_onw = inflate(26.34, 2020)*1000/1e6\n",
    "\n",
    "cc_iea_onw = inflate(1968, 2020)*1000/1e6\n",
    "\n",
    "print(f\"According to Sargent and Lundy: Onshore Wind\")\n",
    "print(f\"Capital Cost: {cc_sl_onw}; Fixed Cost: {om_sl_fix_onw}; Variable Cost: {0}\")\n",
    "print(f\"According to EIA: Onshore Wind\")\n",
    "print(f\"Capital Cost: {cc_eia_onw}; Fixed Cost: {om_eia_fix_onw}; Variable Cost: {0}\")\n",
    "print(f\"According to IEA: Onshore Wind\")\n",
    "print(f\"Capital Cost: {cc_iea_onw}; Fixed Cost: {np.nan}; Variable Cost: {0}\")"
   ]
  },
  {
   "cell_type": "markdown",
   "metadata": {},
   "source": [
    "Since the IEA and S\\&L reports are equally recent, we will use an intermediate value for the capital cost."
   ]
  },
  {
   "cell_type": "code",
   "execution_count": 23,
   "metadata": {},
   "outputs": [
    {
     "name": "stdout",
     "output_type": "stream",
     "text": [
      "Mean capital cost for onshore windfarms 1.6449208033536278\n"
     ]
    }
   ],
   "source": [
    "print(f\"Mean capital cost for onshore windfarms {(cc_iea_onw+cc_sl_onw)/2}\")"
   ]
  },
  {
   "cell_type": "markdown",
   "metadata": {},
   "source": [
    "## Solar Farms\n",
    "\n",
    "Sources: (EIA, 2016) same as above, (Sargent and Lundy, 2020) same as above, (IEA, 2020) same as above\n",
    "\n",
    "Assume single axis tracking"
   ]
  },
  {
   "cell_type": "code",
   "execution_count": 24,
   "metadata": {},
   "outputs": [
    {
     "name": "stdout",
     "output_type": "stream",
     "text": [
      "According to Sargent and Lundy: Solar Farm (Utility Scale)\n",
      "Capital Cost: 1.3360847601628911; Fixed Cost: 0.01551812078635498; Variable Cost: 0\n",
      "According to EIA: Solar Farm (Utility Scale)\n",
      "Capital Cost: 2.780949443849358; Fixed Cost: 0.023924505870527236; Variable Cost: 0\n",
      "According to IEA: Solar Farm (Utility Scale)\n",
      "Capital Cost: 1.090847572653937; Fixed Cost: nan; Variable Cost: 0\n"
     ]
    }
   ],
   "source": [
    "cc_eia_sol = inflate(2534, 2016)*1000/1e6\n",
    "om_eia_fix_sol = inflate(21.8, 2016)*1000/1e6\n",
    "\n",
    "cc_sl_sol = inflate(1313, 2020)*1000/1e6\n",
    "om_sl_fix_sol = inflate(15.25, 2020)*1000/1e6\n",
    "\n",
    "cc_iea_sol = inflate(1072, 2020)*1000/1e6\n",
    "\n",
    "print(f\"According to Sargent and Lundy: Solar Farm (Utility Scale)\")\n",
    "print(f\"Capital Cost: {cc_sl_sol}; Fixed Cost: {om_sl_fix_sol}; Variable Cost: {0}\")\n",
    "print(f\"According to EIA: Solar Farm (Utility Scale)\")\n",
    "print(f\"Capital Cost: {cc_eia_sol}; Fixed Cost: {om_eia_fix_sol}; Variable Cost: {0}\")\n",
    "print(f\"According to IEA: Solar Farm (Utility Scale)\")\n",
    "print(f\"Capital Cost: {cc_iea_sol}; Fixed Cost: {np.nan}; Variable Cost: {0}\")"
   ]
  },
  {
   "cell_type": "markdown",
   "metadata": {},
   "source": [
    "Since IEA doesn't specify if it's fixed or single axis tracking we will use the Sargent and Lundy values."
   ]
  },
  {
   "cell_type": "markdown",
   "metadata": {},
   "source": [
    "## Coal Plants\n",
    "\n",
    "Data about the annual fixed costs for conventional coal plants (i.e. not supercritical, no carbon capture) is difficult to find. Fortunately, most coal plants were built before 1990 and thus they are likely \"fully depreciated\" in 2021. Therefore we can use the LCOE estimate from [Lazard](https://www.lazard.com/perspective/levelized-cost-of-energy-and-levelized-cost-of-storage-2020/).\n",
    "\n",
    "Estimate for fully depreciated: \\$41/MWh\n",
    "\n",
    "\n",
    "#### New Coal\n",
    "For new coal plants, we assume ultra-supercritical with 90\\% carbon capture storage.\n",
    "\n",
    "Sources: (EIA, 2016) same as above, (Sargent and Lundy, 2020) same as above, (IEA, 2020) same as above"
   ]
  },
  {
   "cell_type": "code",
   "execution_count": 25,
   "metadata": {},
   "outputs": [
    {
     "name": "stdout",
     "output_type": "stream",
     "text": [
      "4.1720849327249454e-05\n"
     ]
    }
   ],
   "source": [
    "lcoe_coal_laz = inflate(41, 2020)/1e6\n",
    "print(lcoe_coal_laz)"
   ]
  },
  {
   "cell_type": "code",
   "execution_count": 26,
   "metadata": {},
   "outputs": [
    {
     "name": "stdout",
     "output_type": "stream",
     "text": [
      "According to Sargent and Lundy: Coal (UCS/CCS)\n",
      "Capital Cost: 5.979310015778483; Fixed Cost: 0.06058681387669347; Variable Cost: 1.1173046966175586e-05\n",
      "According to EIA: Solar Farm (Utility Scale)\n",
      "Capital Cost: 5.579458158062405; Fixed Cost: 0.0768218078411425; Variable Cost: 0.007791926223887309\n",
      "According to IEA: Solar Farm (Utility Scale)\n",
      "Capital Cost: 6.096331910232963; Fixed Cost: nan; Variable Cost: nan\n"
     ]
    }
   ],
   "source": [
    "cc_eia_coal = inflate(5084, 2016)*1000/1e6\n",
    "om_eia_fix_coal = inflate(70, 2016)*1000/1e6\n",
    "om_eia_var_coal = inflate(7.1, 2016)*1000/1e6\n",
    "\n",
    "cc_sl_coal = inflate(5876, 2020)*1000/1e6\n",
    "om_sl_fix_coal = inflate(59.54, 2020)*1000/1e6\n",
    "om_sl_var_coal = inflate(10.98, 2020)/1e6\n",
    "\n",
    "cc_iea_coal = inflate(5991, 2020)*1000/1e6\n",
    "\n",
    "print(f\"According to Sargent and Lundy: Coal (UCS/CCS)\")\n",
    "print(f\"Capital Cost: {cc_sl_coal}; Fixed Cost: {om_sl_fix_coal}; Variable Cost: {om_sl_var_coal}\")\n",
    "print(f\"According to EIA: Solar Farm (Utility Scale)\")\n",
    "print(f\"Capital Cost: {cc_eia_coal}; Fixed Cost: {om_eia_fix_coal}; Variable Cost: {om_eia_var_coal}\")\n",
    "print(f\"According to IEA: Solar Farm (Utility Scale)\")\n",
    "print(f\"Capital Cost: {cc_iea_coal}; Fixed Cost: {np.nan}; Variable Cost: {np.nan}\")"
   ]
  },
  {
   "cell_type": "markdown",
   "metadata": {},
   "source": [
    "### Update: NREL Annual Technology Baseline"
   ]
  },
  {
   "cell_type": "code",
   "execution_count": 27,
   "metadata": {},
   "outputs": [
    {
     "name": "stdout",
     "output_type": "stream",
     "text": [
      "Investment cost for existing coal 3.666346832343409 (M$/MW)\n",
      "Investment cost for new coal 6.0352770087784515 (M$/MW)\n",
      "Annual fixed cost for existing coal 0.04070326763634093 (M$/MW-year)\n",
      "Annual fixed cost for new coal 0.059019738072694346 (M$/MW-year)\n",
      "Variable cost for existing coal 2.1369215509078985e-05 (M$/MWh)\n",
      "Variable cost for new coal 3.663294087270684e-05 (M$/MWh)\n"
     ]
    }
   ],
   "source": [
    "coal_existing_capital = inflate(3603*1000/1e6, 2020)\n",
    "print(f\"Investment cost for existing coal {coal_existing_capital} (M$/MW)\")\n",
    "coal_new_capital = inflate(5931*1000/1e6, 2020)\n",
    "print(f\"Investment cost for new coal {coal_new_capital} (M$/MW)\")\n",
    "coal_existing_fixed = inflate(40*1000/1e6, 2020)\n",
    "print(f\"Annual fixed cost for existing coal {coal_existing_fixed} (M$/MW-year)\")\n",
    "coal_new_fixed = inflate(58*1000/1e6, 2020)\n",
    "print(f\"Annual fixed cost for new coal {coal_new_fixed} (M$/MW-year)\")\n",
    "coal_existing_variable = inflate((4+17)/1e6, 2020)\n",
    "print(f\"Variable cost for existing coal {coal_existing_variable} (M$/MWh)\")\n",
    "coal_new_variable = inflate((11+25)/1e6, 2020)\n",
    "print(f\"Variable cost for new coal {coal_new_variable} (M$/MWh)\")"
   ]
  },
  {
   "cell_type": "code",
   "execution_count": 28,
   "metadata": {},
   "outputs": [
    {
     "name": "stdout",
     "output_type": "stream",
     "text": [
      "Investment cost for existing natgas 0.9595795345267374 (M$/MW)\n",
      "Investment cost for new natgas 2.7128727879621226 (M$/MW)\n",
      "Annual fixed cost for existing natgas 0.011193398599993755 (M$/MW-year)\n",
      "Annual fixed cost for new natgas 0.027474705654530127 (M$/MW-year)\n",
      "Variable cost for existing natgas 2.238679719998751e-05 (M$/MWh)\n",
      "Variable cost for new natgas 2.7474705654530124e-05 (M$/MWh)\n"
     ]
    }
   ],
   "source": [
    "natgas_existing_capital = inflate(943*1000/1e6, 2020)\n",
    "print(f\"Investment cost for existing natgas {natgas_existing_capital} (M$/MW)\")\n",
    "natgas_new_capital = inflate(2666*1000/1e6, 2020)\n",
    "print(f\"Investment cost for new natgas {natgas_new_capital} (M$/MW)\")\n",
    "natgas_existing_fixed = inflate(11*1000/1e6, 2020)\n",
    "print(f\"Annual fixed cost for existing natgas {natgas_existing_fixed} (M$/MW-year)\")\n",
    "natgas_new_fixed = inflate(27*1000/1e6, 2020)\n",
    "print(f\"Annual fixed cost for new natgas {natgas_new_fixed} (M$/MW-year)\")\n",
    "natgas_existing_variable = inflate((4+18)/1e6, 2020)\n",
    "print(f\"Variable cost for existing natgas {natgas_existing_variable} (M$/MWh)\")\n",
    "natgas_new_variable = inflate((6+21)/1e6, 2020)\n",
    "print(f\"Variable cost for new natgas {natgas_new_variable} (M$/MWh)\")"
   ]
  },
  {
   "cell_type": "code",
   "execution_count": 29,
   "metadata": {},
   "outputs": [
    {
     "name": "stdout",
     "output_type": "stream",
     "text": [
      "Investment cost for existing nuclear 0.9595795345267374 (M$/MW)\n",
      "Investment cost for new nuclear 6.232687856814705 (M$/MW)\n",
      "Annual fixed cost for existing nuclear 0.011193398599993755 (M$/MW-year)\n",
      "Annual fixed cost for new nuclear 0.12109222121811426 (M$/MW-year)\n",
      "Variable cost for existing nuclear 7.123071836359662e-06 (M$/MWh)\n",
      "Variable cost for new nuclear 9.15823521817671e-06 (M$/MWh)\n"
     ]
    }
   ],
   "source": [
    "nuclear_existing_capital = inflate(943*1000/1e6, 2020)\n",
    "print(f\"Investment cost for existing nuclear {nuclear_existing_capital} (M$/MW)\")\n",
    "nuclear_new_capital = inflate(6125*1000/1e6, 2020)\n",
    "print(f\"Investment cost for new nuclear {nuclear_new_capital} (M$/MW)\")\n",
    "nuclear_existing_fixed = inflate(11*1000/1e6, 2020)\n",
    "print(f\"Annual fixed cost for existing nuclear {nuclear_existing_fixed} (M$/MW-year)\")\n",
    "nuclear_new_fixed = inflate(119*1000/1e6, 2020)\n",
    "print(f\"Annual fixed cost for new nuclear {nuclear_new_fixed} (M$/MW-year)\")\n",
    "nuclear_existing_variable = inflate((4+3)/1e6, 2020)\n",
    "print(f\"Variable cost for existing nuclear {nuclear_existing_variable} (M$/MWh)\")\n",
    "nuclear_new_variable = inflate((7+2)/1e6, 2020)\n",
    "print(f\"Variable cost for new nuclear {nuclear_new_variable} (M$/MWh)\")"
   ]
  },
  {
   "cell_type": "code",
   "execution_count": 30,
   "metadata": {},
   "outputs": [
    {
     "name": "stdout",
     "output_type": "stream",
     "text": [
      "Investment cost for new utility pv 1.5935329279627475 (M$/MW)\n",
      "Annual fixed cost for new utility pv 0.01933405212726194 (M$/MW-year)\n",
      "Variable cost for new utility pv 0.0 (M$/MWh)\n"
     ]
    }
   ],
   "source": [
    "utilitypv_new_capital = inflate(1566*1000/1e6, 2020)\n",
    "print(f\"Investment cost for new utility pv {utilitypv_new_capital} (M$/MW)\")\n",
    "utilitypv_new_fixed = inflate(19*1000/1e6, 2020)\n",
    "print(f\"Annual fixed cost for new utility pv {utilitypv_new_fixed} (M$/MW-year)\")\n",
    "utilitypv_new_variable = inflate((0)/1e6, 2020)\n",
    "print(f\"Variable cost for new utility pv {utilitypv_new_variable} (M$/MWh)\")"
   ]
  },
  {
   "cell_type": "code",
   "execution_count": 31,
   "metadata": {},
   "outputs": [
    {
     "name": "stdout",
     "output_type": "stream",
     "text": [
      "Investment cost for new residential pv 3.1076944840346297 (M$/MW)\n",
      "Annual fixed cost for new residential pv 0.02238679719998751 (M$/MW-year)\n",
      "Variable cost for new residential pv 0.0 (M$/MWh)\n"
     ]
    }
   ],
   "source": [
    "residentialpv_new_capital = inflate(3054*1000/1e6, 2020)\n",
    "print(f\"Investment cost for new residential pv {residentialpv_new_capital} (M$/MW)\")\n",
    "residentialpv_new_fixed = inflate(22*1000/1e6, 2020)\n",
    "print(f\"Annual fixed cost for new residential pv {residentialpv_new_fixed} (M$/MW-year)\")\n",
    "residentialpv_new_variable = inflate((0)/1e6, 2020)\n",
    "print(f\"Variable cost for new residential pv {residentialpv_new_variable} (M$/MWh)\")"
   ]
  },
  {
   "cell_type": "code",
   "execution_count": 32,
   "metadata": {},
   "outputs": [
    {
     "name": "stdout",
     "output_type": "stream",
     "text": [
      "Investment cost for new wind pv 1.878455801417134 (M$/MW)\n",
      "Annual fixed cost for new wind pv 0.0437560127090665 (M$/MW-year)\n",
      "Variable cost for new wind pv 0.0 (M$/MWh)\n"
     ]
    }
   ],
   "source": [
    "wind_new_capital = inflate(1846*1000/1e6, 2020)\n",
    "print(f\"Investment cost for new wind pv {wind_new_capital} (M$/MW)\")\n",
    "wind_new_fixed = inflate(43*1000/1e6, 2020)\n",
    "print(f\"Annual fixed cost for new wind pv {wind_new_fixed} (M$/MW-year)\")\n",
    "wind_new_variable = inflate((0)/1e6, 2020)\n",
    "print(f\"Variable cost for new wind pv {wind_new_variable} (M$/MWh)\")"
   ]
  },
  {
   "cell_type": "code",
   "execution_count": 33,
   "metadata": {},
   "outputs": [],
   "source": [
    "def convert_to_MTperMWh(emission):\n",
    "    '''\n",
    "    Converts a number in units of lb/MMBtu to MT/MWh\n",
    "    \n",
    "    Inputs: \n",
    "    -------\n",
    "    emission: float\n",
    "        reported value in units of lb/MMBtu\n",
    "    \n",
    "    Outputs:\n",
    "    --------\n",
    "    converted_emission: float\n",
    "        converted reported value in units of MT/MWh\n",
    "    '''\n",
    "    mmbtu_to_mwh = emission/0.29307107\n",
    "    lb_to_kg = mmbtu_to_mwh*0.453592\n",
    "    kg_to_tonne = lb_to_kg/1000\n",
    "    tonne_to_MT = kg_to_tonne/1e6\n",
    "    converted_emission = tonne_to_MT\n",
    "#     converted_emission = emission*1.54772e-3\n",
    "    return converted_emission"
   ]
  },
  {
   "cell_type": "code",
   "execution_count": 34,
   "metadata": {},
   "outputs": [],
   "source": [
    "to_MTperMWh = lambda g: g/1e9  # MT / MWh"
   ]
  },
  {
   "cell_type": "code",
   "execution_count": 35,
   "metadata": {},
   "outputs": [],
   "source": [
    "cost_df = {'technology':['coal_existing',\n",
    "                         'coal_new',\n",
    "                         'natgas_existing',\n",
    "                         'natgas_new',\n",
    "                         'nuclear_existing',\n",
    "                         'nuclear_new',\n",
    "                         'solar_utility',\n",
    "                         'solar_residential',\n",
    "                         'wind_utility',\n",
    "                         'li_battery'],\n",
    "           'investment (M$/MW)':[coal_existing_capital,\n",
    "                                 coal_new_capital,\n",
    "                                 natgas_existing_capital,\n",
    "                                 natgas_new_capital,\n",
    "                                 391*1000/1e6,\n",
    "                                 nuclear_new_capital,\n",
    "                                 utilitypv_new_capital,\n",
    "                                 residentialpv_new_capital,\n",
    "                                 wind_new_capital,\n",
    "                                 0.0],\n",
    "           'fixed (M$/MW-year)':[coal_existing_fixed,\n",
    "                                 coal_new_fixed,\n",
    "                                 natgas_existing_fixed,\n",
    "                                 natgas_new_fixed,\n",
    "                                 om_nei_bwr_fix,\n",
    "                                 nuclear_new_fixed,\n",
    "                                 utilitypv_new_fixed,\n",
    "                                 residentialpv_new_fixed,\n",
    "                                 wind_new_fixed,\n",
    "                                 0.0],\n",
    "           'variable (M$/MWh)':[coal_existing_variable,\n",
    "                                coal_new_variable,\n",
    "                                natgas_existing_variable,\n",
    "                                natgas_new_variable,\n",
    "                                om_nei_bwr_total,\n",
    "                                nuclear_new_variable,\n",
    "                                utilitypv_new_variable,\n",
    "                                residentialpv_new_variable,\n",
    "                                wind_new_variable,\n",
    "                                0.0],\n",
    "           'SO2 (MT/MWh)':[convert_to_MTperMWh(0.1000),\n",
    "                           convert_to_MTperMWh(0.0555),\n",
    "                           convert_to_MTperMWh(0.0033),\n",
    "                           convert_to_MTperMWh(0.0033),\n",
    "                           0.0,\n",
    "                           0.0,\n",
    "                           0.0,\n",
    "                           0.0,\n",
    "                           0.0,\n",
    "                           0.0],\n",
    "           'NOx (MT/MWh)':[convert_to_MTperMWh(0.080),\n",
    "                           convert_to_MTperMWh(0.085),\n",
    "                           convert_to_MTperMWh(0.02),\n",
    "                           convert_to_MTperMWh(0.02),\n",
    "                           0.0,\n",
    "                           0.0,\n",
    "                           0.0,\n",
    "                           0.0,\n",
    "                           0.0,\n",
    "                           0.0],\n",
    "           'CO2 (MT/MWh)':[convert_to_MTperMWh(210.6),\n",
    "                           convert_to_MTperMWh(21.1),\n",
    "                           convert_to_MTperMWh(117.0),\n",
    "                           convert_to_MTperMWh(11.7),\n",
    "                           0.0,\n",
    "                           0.0,\n",
    "                           0.0,\n",
    "                           0.0,\n",
    "                           0.0,\n",
    "                           0.0],\n",
    "           'Hg (MT/MWh)':[convert_to_MTperMWh(4.361e-6),\n",
    "                          convert_to_MTperMWh(4.361e-7),\n",
    "                          0.0,\n",
    "                          0.0,\n",
    "                          0.0,\n",
    "                          0.0,\n",
    "                          0.0,\n",
    "                          0.0,\n",
    "                          0.0,\n",
    "                          0.0],\n",
    "           'CO2eq (MT/MWh)':[to_MTperMWh(820),\n",
    "                             to_MTperMWh(220),\n",
    "                             to_MTperMWh(490),\n",
    "                             to_MTperMWh(170),\n",
    "                             to_MTperMWh(12),\n",
    "                             to_MTperMWh(12),\n",
    "                             to_MTperMWh(48),\n",
    "                             to_MTperMWh(41),\n",
    "                             to_MTperMWh(11),\n",
    "                             0.0],\n",
    "           'source':['\\\"NREL Annual Technology Baseline 2020\\\"',\n",
    "                     '\\\"NREL Annual Technology Baseline 2020\\\"',\n",
    "                     '\\\"NREL Annual Technology Baseline 2020\\\"',\n",
    "                     '\\\"NREL Annual Technology Baseline 2020\\\"',\n",
    "                     'IEA-2020',\n",
    "                     '\\\"NREL Annual Technology Baseline 2020\\\"',\n",
    "                     '\\\"NREL Annual Technology Baseline 2020\\\"',\n",
    "                     '\\\"NREL Annual Technology Baseline 2020\\\"',\n",
    "                     '\\\"NREL Annual Technology Baseline 2020\\\"',\n",
    "                     '\\\"NREL Annual Technology Baseline 2020\\\", MISC'],\n",
    "           'notes':['based on average capacity factor (54%)',\n",
    "                    'with 90% CCS and average cap. factor.',\n",
    "                    'combined cycle with average capacity factor (55%)',\n",
    "                    'CC with carbon capture (90%)',\n",
    "                    'current LWR, investment cost refers to cost of license renewal',\n",
    "                    'advanced or modular',\n",
    "                    'utility scale solar, photovoltaic, chicago', \n",
    "                    'residential solar, photovoltaic, chicago', \n",
    "                    'utility scale wind turbines, assume Class 7 wind speeds',\n",
    "                    'lithium ion battery'],\n",
    "           'notes-co2eq':['co2eq is the median value from the Fifth IPCC Assessement',\n",
    "                          'co2eq is the median value from the Fifth IPCC Assessement',\n",
    "                          'co2eq is the median value from the Fifth IPCC Assessement',\n",
    "                          'co2eq is the median value from the Fifth IPCC Assessement',\n",
    "                          'co2eq is the median value from the Fifth IPCC Assessement',\n",
    "                          'co2eq is the median value from the Fifth IPCC Assessement', \n",
    "                          'co2eq is the median value from the Fifth IPCC Assessement',\n",
    "                          'co2eq is the median value from the Fifth IPCC Assessement',\n",
    "                          'co2eq is the median value from the Fifth IPCC Assessement',\n",
    "                          'n/a']}"
   ]
  },
  {
   "cell_type": "code",
   "execution_count": 36,
   "metadata": {},
   "outputs": [
    {
     "data": {
      "text/html": [
       "<div>\n",
       "<style scoped>\n",
       "    .dataframe tbody tr th:only-of-type {\n",
       "        vertical-align: middle;\n",
       "    }\n",
       "\n",
       "    .dataframe tbody tr th {\n",
       "        vertical-align: top;\n",
       "    }\n",
       "\n",
       "    .dataframe thead th {\n",
       "        text-align: right;\n",
       "    }\n",
       "</style>\n",
       "<table border=\"1\" class=\"dataframe\">\n",
       "  <thead>\n",
       "    <tr style=\"text-align: right;\">\n",
       "      <th></th>\n",
       "      <th>technology</th>\n",
       "      <th>investment (M$/MW)</th>\n",
       "      <th>fixed (M$/MW-year)</th>\n",
       "      <th>variable (M$/MWh)</th>\n",
       "      <th>SO2 (MT/MWh)</th>\n",
       "      <th>NOx (MT/MWh)</th>\n",
       "      <th>CO2 (MT/MWh)</th>\n",
       "      <th>Hg (MT/MWh)</th>\n",
       "      <th>CO2eq (MT/MWh)</th>\n",
       "      <th>source</th>\n",
       "      <th>notes</th>\n",
       "      <th>notes-co2eq</th>\n",
       "    </tr>\n",
       "  </thead>\n",
       "  <tbody>\n",
       "    <tr>\n",
       "      <th>0</th>\n",
       "      <td>coal_existing</td>\n",
       "      <td>3.666347</td>\n",
       "      <td>0.040703</td>\n",
       "      <td>0.000021</td>\n",
       "      <td>1.547720e-10</td>\n",
       "      <td>1.238176e-10</td>\n",
       "      <td>3.259499e-07</td>\n",
       "      <td>6.749608e-15</td>\n",
       "      <td>8.200000e-07</td>\n",
       "      <td>\"NREL Annual Technology Baseline 2020\"</td>\n",
       "      <td>based on average capacity factor (54%)</td>\n",
       "      <td>co2eq is the median value from the Fifth IPCC ...</td>\n",
       "    </tr>\n",
       "    <tr>\n",
       "      <th>1</th>\n",
       "      <td>coal_new</td>\n",
       "      <td>6.035277</td>\n",
       "      <td>0.059020</td>\n",
       "      <td>0.000037</td>\n",
       "      <td>8.589847e-11</td>\n",
       "      <td>1.315562e-10</td>\n",
       "      <td>3.265690e-08</td>\n",
       "      <td>6.749608e-16</td>\n",
       "      <td>2.200000e-07</td>\n",
       "      <td>\"NREL Annual Technology Baseline 2020\"</td>\n",
       "      <td>with 90% CCS and average cap. factor.</td>\n",
       "      <td>co2eq is the median value from the Fifth IPCC ...</td>\n",
       "    </tr>\n",
       "    <tr>\n",
       "      <th>2</th>\n",
       "      <td>natgas_existing</td>\n",
       "      <td>0.959580</td>\n",
       "      <td>0.011193</td>\n",
       "      <td>0.000022</td>\n",
       "      <td>5.107476e-12</td>\n",
       "      <td>3.095440e-11</td>\n",
       "      <td>1.810833e-07</td>\n",
       "      <td>0.000000e+00</td>\n",
       "      <td>4.900000e-07</td>\n",
       "      <td>\"NREL Annual Technology Baseline 2020\"</td>\n",
       "      <td>combined cycle with average capacity factor (55%)</td>\n",
       "      <td>co2eq is the median value from the Fifth IPCC ...</td>\n",
       "    </tr>\n",
       "    <tr>\n",
       "      <th>3</th>\n",
       "      <td>natgas_new</td>\n",
       "      <td>2.712873</td>\n",
       "      <td>0.027475</td>\n",
       "      <td>0.000027</td>\n",
       "      <td>5.107476e-12</td>\n",
       "      <td>3.095440e-11</td>\n",
       "      <td>1.810833e-08</td>\n",
       "      <td>0.000000e+00</td>\n",
       "      <td>1.700000e-07</td>\n",
       "      <td>\"NREL Annual Technology Baseline 2020\"</td>\n",
       "      <td>CC with carbon capture (90%)</td>\n",
       "      <td>co2eq is the median value from the Fifth IPCC ...</td>\n",
       "    </tr>\n",
       "    <tr>\n",
       "      <th>4</th>\n",
       "      <td>nuclear_existing</td>\n",
       "      <td>0.391000</td>\n",
       "      <td>0.057413</td>\n",
       "      <td>0.000030</td>\n",
       "      <td>0.000000e+00</td>\n",
       "      <td>0.000000e+00</td>\n",
       "      <td>0.000000e+00</td>\n",
       "      <td>0.000000e+00</td>\n",
       "      <td>1.200000e-08</td>\n",
       "      <td>IEA-2020</td>\n",
       "      <td>current LWR, investment cost refers to cost of...</td>\n",
       "      <td>co2eq is the median value from the Fifth IPCC ...</td>\n",
       "    </tr>\n",
       "    <tr>\n",
       "      <th>5</th>\n",
       "      <td>nuclear_new</td>\n",
       "      <td>6.232688</td>\n",
       "      <td>0.121092</td>\n",
       "      <td>0.000009</td>\n",
       "      <td>0.000000e+00</td>\n",
       "      <td>0.000000e+00</td>\n",
       "      <td>0.000000e+00</td>\n",
       "      <td>0.000000e+00</td>\n",
       "      <td>1.200000e-08</td>\n",
       "      <td>\"NREL Annual Technology Baseline 2020\"</td>\n",
       "      <td>advanced or modular</td>\n",
       "      <td>co2eq is the median value from the Fifth IPCC ...</td>\n",
       "    </tr>\n",
       "    <tr>\n",
       "      <th>6</th>\n",
       "      <td>solar_utility</td>\n",
       "      <td>1.593533</td>\n",
       "      <td>0.019334</td>\n",
       "      <td>0.000000</td>\n",
       "      <td>0.000000e+00</td>\n",
       "      <td>0.000000e+00</td>\n",
       "      <td>0.000000e+00</td>\n",
       "      <td>0.000000e+00</td>\n",
       "      <td>4.800000e-08</td>\n",
       "      <td>\"NREL Annual Technology Baseline 2020\"</td>\n",
       "      <td>utility scale solar, photovoltaic, chicago</td>\n",
       "      <td>co2eq is the median value from the Fifth IPCC ...</td>\n",
       "    </tr>\n",
       "    <tr>\n",
       "      <th>7</th>\n",
       "      <td>solar_residential</td>\n",
       "      <td>3.107694</td>\n",
       "      <td>0.022387</td>\n",
       "      <td>0.000000</td>\n",
       "      <td>0.000000e+00</td>\n",
       "      <td>0.000000e+00</td>\n",
       "      <td>0.000000e+00</td>\n",
       "      <td>0.000000e+00</td>\n",
       "      <td>4.100000e-08</td>\n",
       "      <td>\"NREL Annual Technology Baseline 2020\"</td>\n",
       "      <td>residential solar, photovoltaic, chicago</td>\n",
       "      <td>co2eq is the median value from the Fifth IPCC ...</td>\n",
       "    </tr>\n",
       "    <tr>\n",
       "      <th>8</th>\n",
       "      <td>wind_utility</td>\n",
       "      <td>1.878456</td>\n",
       "      <td>0.043756</td>\n",
       "      <td>0.000000</td>\n",
       "      <td>0.000000e+00</td>\n",
       "      <td>0.000000e+00</td>\n",
       "      <td>0.000000e+00</td>\n",
       "      <td>0.000000e+00</td>\n",
       "      <td>1.100000e-08</td>\n",
       "      <td>\"NREL Annual Technology Baseline 2020\"</td>\n",
       "      <td>utility scale wind turbines, assume Class 7 wi...</td>\n",
       "      <td>co2eq is the median value from the Fifth IPCC ...</td>\n",
       "    </tr>\n",
       "    <tr>\n",
       "      <th>9</th>\n",
       "      <td>li_battery</td>\n",
       "      <td>0.000000</td>\n",
       "      <td>0.000000</td>\n",
       "      <td>0.000000</td>\n",
       "      <td>0.000000e+00</td>\n",
       "      <td>0.000000e+00</td>\n",
       "      <td>0.000000e+00</td>\n",
       "      <td>0.000000e+00</td>\n",
       "      <td>0.000000e+00</td>\n",
       "      <td>\"NREL Annual Technology Baseline 2020\", MISC</td>\n",
       "      <td>lithium ion battery</td>\n",
       "      <td>n/a</td>\n",
       "    </tr>\n",
       "  </tbody>\n",
       "</table>\n",
       "</div>"
      ],
      "text/plain": [
       "          technology  investment (M$/MW)  fixed (M$/MW-year)  \\\n",
       "0      coal_existing            3.666347            0.040703   \n",
       "1           coal_new            6.035277            0.059020   \n",
       "2    natgas_existing            0.959580            0.011193   \n",
       "3         natgas_new            2.712873            0.027475   \n",
       "4   nuclear_existing            0.391000            0.057413   \n",
       "5        nuclear_new            6.232688            0.121092   \n",
       "6      solar_utility            1.593533            0.019334   \n",
       "7  solar_residential            3.107694            0.022387   \n",
       "8       wind_utility            1.878456            0.043756   \n",
       "9         li_battery            0.000000            0.000000   \n",
       "\n",
       "   variable (M$/MWh)  SO2 (MT/MWh)  NOx (MT/MWh)  CO2 (MT/MWh)   Hg (MT/MWh)  \\\n",
       "0           0.000021  1.547720e-10  1.238176e-10  3.259499e-07  6.749608e-15   \n",
       "1           0.000037  8.589847e-11  1.315562e-10  3.265690e-08  6.749608e-16   \n",
       "2           0.000022  5.107476e-12  3.095440e-11  1.810833e-07  0.000000e+00   \n",
       "3           0.000027  5.107476e-12  3.095440e-11  1.810833e-08  0.000000e+00   \n",
       "4           0.000030  0.000000e+00  0.000000e+00  0.000000e+00  0.000000e+00   \n",
       "5           0.000009  0.000000e+00  0.000000e+00  0.000000e+00  0.000000e+00   \n",
       "6           0.000000  0.000000e+00  0.000000e+00  0.000000e+00  0.000000e+00   \n",
       "7           0.000000  0.000000e+00  0.000000e+00  0.000000e+00  0.000000e+00   \n",
       "8           0.000000  0.000000e+00  0.000000e+00  0.000000e+00  0.000000e+00   \n",
       "9           0.000000  0.000000e+00  0.000000e+00  0.000000e+00  0.000000e+00   \n",
       "\n",
       "   CO2eq (MT/MWh)                                        source  \\\n",
       "0    8.200000e-07        \"NREL Annual Technology Baseline 2020\"   \n",
       "1    2.200000e-07        \"NREL Annual Technology Baseline 2020\"   \n",
       "2    4.900000e-07        \"NREL Annual Technology Baseline 2020\"   \n",
       "3    1.700000e-07        \"NREL Annual Technology Baseline 2020\"   \n",
       "4    1.200000e-08                                      IEA-2020   \n",
       "5    1.200000e-08        \"NREL Annual Technology Baseline 2020\"   \n",
       "6    4.800000e-08        \"NREL Annual Technology Baseline 2020\"   \n",
       "7    4.100000e-08        \"NREL Annual Technology Baseline 2020\"   \n",
       "8    1.100000e-08        \"NREL Annual Technology Baseline 2020\"   \n",
       "9    0.000000e+00  \"NREL Annual Technology Baseline 2020\", MISC   \n",
       "\n",
       "                                               notes  \\\n",
       "0             based on average capacity factor (54%)   \n",
       "1              with 90% CCS and average cap. factor.   \n",
       "2  combined cycle with average capacity factor (55%)   \n",
       "3                       CC with carbon capture (90%)   \n",
       "4  current LWR, investment cost refers to cost of...   \n",
       "5                                advanced or modular   \n",
       "6         utility scale solar, photovoltaic, chicago   \n",
       "7           residential solar, photovoltaic, chicago   \n",
       "8  utility scale wind turbines, assume Class 7 wi...   \n",
       "9                                lithium ion battery   \n",
       "\n",
       "                                         notes-co2eq  \n",
       "0  co2eq is the median value from the Fifth IPCC ...  \n",
       "1  co2eq is the median value from the Fifth IPCC ...  \n",
       "2  co2eq is the median value from the Fifth IPCC ...  \n",
       "3  co2eq is the median value from the Fifth IPCC ...  \n",
       "4  co2eq is the median value from the Fifth IPCC ...  \n",
       "5  co2eq is the median value from the Fifth IPCC ...  \n",
       "6  co2eq is the median value from the Fifth IPCC ...  \n",
       "7  co2eq is the median value from the Fifth IPCC ...  \n",
       "8  co2eq is the median value from the Fifth IPCC ...  \n",
       "9                                                n/a  "
      ]
     },
     "execution_count": 36,
     "metadata": {},
     "output_type": "execute_result"
    }
   ],
   "source": [
    "cost_df = pd.DataFrame(cost_df)\n",
    "cost_df"
   ]
  },
  {
   "cell_type": "code",
   "execution_count": 37,
   "metadata": {},
   "outputs": [],
   "source": [
    "cost_df.to_csv(\"cost_emissions_data.csv\")"
   ]
  },
  {
   "cell_type": "markdown",
   "metadata": {},
   "source": [
    "## Battery Storage"
   ]
  },
  {
   "cell_type": "code",
   "execution_count": 38,
   "metadata": {},
   "outputs": [],
   "source": [
    "om_battery50_200_fixed_sl = inflate(24.8*1000/1e6, 2020)\n",
    "om_battery50_100_fixed_sl = inflate(12.9*1000/1e6, 2020)\n",
    "\n",
    "battery_df = {'capacity (MW)':[50.0,\n",
    "                               50.0,],\n",
    "              'duration (MWh)':[100.0,\n",
    "                                200.0,],\n",
    "              'capital (M$/MW)':[inflate(845*1000/1e6,2020),\n",
    "                                 inflate(1389*1000/1e6,2020),],\n",
    "              'fixed (M$/MW-year)':[om_battery50_100_fixed_sl,\n",
    "                                    om_battery50_200_fixed_sl,\n",
    "                                   ],\n",
    "              'source':['Sargent&Lundy 2020',\n",
    "                        'Sargent&Lundy 2020'],\n",
    "              'notes':['',\n",
    "                       '',]}"
   ]
  },
  {
   "cell_type": "code",
   "execution_count": 39,
   "metadata": {},
   "outputs": [
    {
     "data": {
      "text/html": [
       "<div>\n",
       "<style scoped>\n",
       "    .dataframe tbody tr th:only-of-type {\n",
       "        vertical-align: middle;\n",
       "    }\n",
       "\n",
       "    .dataframe tbody tr th {\n",
       "        vertical-align: top;\n",
       "    }\n",
       "\n",
       "    .dataframe thead th {\n",
       "        text-align: right;\n",
       "    }\n",
       "</style>\n",
       "<table border=\"1\" class=\"dataframe\">\n",
       "  <thead>\n",
       "    <tr style=\"text-align: right;\">\n",
       "      <th></th>\n",
       "      <th>capacity (MW)</th>\n",
       "      <th>duration (MWh)</th>\n",
       "      <th>capital (M$/MW)</th>\n",
       "      <th>fixed (M$/MW-year)</th>\n",
       "      <th>source</th>\n",
       "      <th>notes</th>\n",
       "    </tr>\n",
       "  </thead>\n",
       "  <tbody>\n",
       "    <tr>\n",
       "      <th>0</th>\n",
       "      <td>50.0</td>\n",
       "      <td>100.0</td>\n",
       "      <td>0.859857</td>\n",
       "      <td>0.013127</td>\n",
       "      <td>Sargent&amp;Lundy 2020</td>\n",
       "      <td></td>\n",
       "    </tr>\n",
       "    <tr>\n",
       "      <th>1</th>\n",
       "      <td>50.0</td>\n",
       "      <td>200.0</td>\n",
       "      <td>1.413421</td>\n",
       "      <td>0.025236</td>\n",
       "      <td>Sargent&amp;Lundy 2020</td>\n",
       "      <td></td>\n",
       "    </tr>\n",
       "  </tbody>\n",
       "</table>\n",
       "</div>"
      ],
      "text/plain": [
       "   capacity (MW)  duration (MWh)  capital (M$/MW)  fixed (M$/MW-year)  \\\n",
       "0           50.0           100.0         0.859857            0.013127   \n",
       "1           50.0           200.0         1.413421            0.025236   \n",
       "\n",
       "               source notes  \n",
       "0  Sargent&Lundy 2020        \n",
       "1  Sargent&Lundy 2020        "
      ]
     },
     "execution_count": 39,
     "metadata": {},
     "output_type": "execute_result"
    }
   ],
   "source": [
    "battery_df = pd.DataFrame(battery_df)\n",
    "battery_df"
   ]
  },
  {
   "cell_type": "markdown",
   "metadata": {},
   "source": [
    "## Nuclear Fixed Cost: Incorporating Guaranteed Generation\n",
    "\n",
    "\n",
    "Nuclear plants do not \"load follow\" the way natural gas plants do because of the \n",
    "physical laws governing fission in the reactor's core. Thus, nuclear plants have a \n",
    "high capacity factor, around 92.5\\% according to EIA and the DOE. \n",
    "\n",
    "In order for Temoa to properly use existing nuclear resources, we should calculate ahead of time the total electricity generated by Illinois' nuclear fleet and incorporate this into the fixed cost of nuclear.\n",
    "\n",
    "$$ FC_{adj} = CF*Hours/Year*P $$\n",
    "\n",
    "#### What should the fixed price be?\n",
    "\n",
    "There are actually two prices: \n",
    "1. The breakeven cost of producing electricity for a nuclear plant.\n",
    "2. The price the nuclear plant actually gets paid. \n",
    "\n",
    "BAU shows how much nuclear generation the market _values_. BAU2 shows how much nuclear generation the market _gets_ and the difference is the deficit for nuclear plants.\n",
    "\n",
    "SD4 is the scenario where nuclear is appropriately valued."
   ]
  },
  {
   "cell_type": "code",
   "execution_count": 40,
   "metadata": {},
   "outputs": [
    {
     "name": "stdout",
     "output_type": "stream",
     "text": [
      "The fixed cost adjusted for nuclear is 242.12974514034076\n",
      "The fixed cost adjusted for nuclear (at natural gas price) is 181.4002177114988\n"
     ]
    }
   ],
   "source": [
    "fc_adjusted_be = om_nei_bwr_total*8760*0.925*1000\n",
    "print(f\"The fixed cost adjusted for nuclear is {fc_adjusted_be}\")\n",
    "\n",
    "fc_adjusted_be = natgas_existing_variable*8760*0.925*1000\n",
    "print(f\"The fixed cost adjusted for nuclear (at natural gas price) is {fc_adjusted_be}\")"
   ]
  },
  {
   "cell_type": "code",
   "execution_count": 41,
   "metadata": {},
   "outputs": [],
   "source": [
    "p = inflate(31.52, 2019)"
   ]
  },
  {
   "cell_type": "code",
   "execution_count": 42,
   "metadata": {},
   "outputs": [
    {
     "data": {
      "text/plain": [
       "263.1415258710145"
      ]
     },
     "execution_count": 42,
     "metadata": {},
     "output_type": "execute_result"
    }
   ],
   "source": [
    "p*8760*0.925/1e6*1000  # M$/MWh * 1000"
   ]
  },
  {
   "cell_type": "code",
   "execution_count": 43,
   "metadata": {},
   "outputs": [],
   "source": [
    "pc = inflate(5.83/1e6*1000, 2019)"
   ]
  },
  {
   "cell_type": "code",
   "execution_count": 44,
   "metadata": {},
   "outputs": [
    {
     "data": {
      "text/plain": [
       "0.006006561052417816"
      ]
     },
     "execution_count": 44,
     "metadata": {},
     "output_type": "execute_result"
    }
   ],
   "source": [
    "pc"
   ]
  },
  {
   "cell_type": "code",
   "execution_count": 45,
   "metadata": {},
   "outputs": [
    {
     "data": {
      "text/plain": [
       "0.02238679719998751"
      ]
     },
     "execution_count": 45,
     "metadata": {},
     "output_type": "execute_result"
    }
   ],
   "source": [
    "natgas_existing_variable*1000"
   ]
  },
  {
   "cell_type": "code",
   "execution_count": 46,
   "metadata": {},
   "outputs": [
    {
     "data": {
      "text/plain": [
       "0.027474705654530123"
      ]
     },
     "execution_count": 46,
     "metadata": {},
     "output_type": "execute_result"
    }
   ],
   "source": [
    "natgas_new_variable*1000"
   ]
  },
  {
   "cell_type": "code",
   "execution_count": null,
   "metadata": {},
   "outputs": [],
   "source": []
  }
 ],
 "metadata": {
  "kernelspec": {
   "display_name": "Python 3",
   "language": "python",
   "name": "python3"
  },
  "language_info": {
   "codemirror_mode": {
    "name": "ipython",
    "version": 3
   },
   "file_extension": ".py",
   "mimetype": "text/x-python",
   "name": "python",
   "nbconvert_exporter": "python",
   "pygments_lexer": "ipython3",
   "version": "3.7.6"
  }
 },
 "nbformat": 4,
 "nbformat_minor": 4
}
