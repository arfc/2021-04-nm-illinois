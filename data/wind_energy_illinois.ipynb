{
 "cells": [
  {
   "cell_type": "markdown",
   "metadata": {},
   "source": [
    "# Wind Energy Illinois\n",
    "\n",
    "This notebook is for processing existing data about wind energy in Illinois\n",
    "\n",
    "The data used in this notebook is available from:\n",
    "\n",
    "[Wind Exchange -- DOE-EERE](https://windexchange.energy.gov/maps-data/321)"
   ]
  },
  {
   "cell_type": "code",
   "execution_count": 1,
   "metadata": {},
   "outputs": [],
   "source": [
    "import numpy as np\n",
    "import matplotlib.pyplot as plt\n",
    "import pandas as pd"
   ]
  },
  {
   "cell_type": "code",
   "execution_count": 2,
   "metadata": {},
   "outputs": [],
   "source": [
    "df = pd.read_excel('./installed_wind_capacity_by_state.xls', skiprows=5)\n",
    "il_df = df[df['State']=='Illinois']"
   ]
  },
  {
   "cell_type": "code",
   "execution_count": 3,
   "metadata": {},
   "outputs": [
    {
     "data": {
      "text/html": [
       "<div>\n",
       "<style scoped>\n",
       "    .dataframe tbody tr th:only-of-type {\n",
       "        vertical-align: middle;\n",
       "    }\n",
       "\n",
       "    .dataframe tbody tr th {\n",
       "        vertical-align: top;\n",
       "    }\n",
       "\n",
       "    .dataframe thead th {\n",
       "        text-align: right;\n",
       "    }\n",
       "</style>\n",
       "<table border=\"1\" class=\"dataframe\">\n",
       "  <thead>\n",
       "    <tr style=\"text-align: right;\">\n",
       "      <th></th>\n",
       "      <th>State</th>\n",
       "      <th>1999-12-31 00:00:00</th>\n",
       "      <th>2000-12-31 00:00:00</th>\n",
       "      <th>2001-12-31 00:00:00</th>\n",
       "      <th>2002-12-31 00:00:00</th>\n",
       "      <th>2003-12-31 00:00:00</th>\n",
       "      <th>2004-12-31 00:00:00</th>\n",
       "      <th>2005-12-31 00:00:00</th>\n",
       "      <th>2006-12-31 00:00:00</th>\n",
       "      <th>2007-12-31 00:00:00</th>\n",
       "      <th>2008-12-31 00:00:00</th>\n",
       "      <th>2009-12-31 00:00:00</th>\n",
       "      <th>2010-12-31 00:00:00</th>\n",
       "      <th>2011-12-31 00:00:00</th>\n",
       "      <th>2012-12-31 00:00:00</th>\n",
       "      <th>2013-12-31 00:00:00</th>\n",
       "      <th>2014-12-31 00:00:00</th>\n",
       "      <th>2015-12-31 00:00:00</th>\n",
       "      <th>2016-12-31 00:00:00</th>\n",
       "      <th>Q3 6/30/2017</th>\n",
       "    </tr>\n",
       "  </thead>\n",
       "  <tbody>\n",
       "    <tr>\n",
       "      <th>13</th>\n",
       "      <td>Illinois</td>\n",
       "      <td>0.0</td>\n",
       "      <td>0.0</td>\n",
       "      <td>0.0</td>\n",
       "      <td>0.0</td>\n",
       "      <td>50.4</td>\n",
       "      <td>51.06</td>\n",
       "      <td>107.16</td>\n",
       "      <td>107.16</td>\n",
       "      <td>699.37</td>\n",
       "      <td>915.07</td>\n",
       "      <td>1547.47</td>\n",
       "      <td>2044.56</td>\n",
       "      <td>2742.0</td>\n",
       "      <td>3568.0</td>\n",
       "      <td>3568.0</td>\n",
       "      <td>3568</td>\n",
       "      <td>3842</td>\n",
       "      <td>4026.0</td>\n",
       "      <td>4026.0</td>\n",
       "    </tr>\n",
       "  </tbody>\n",
       "</table>\n",
       "</div>"
      ],
      "text/plain": [
       "       State  1999-12-31 00:00:00  2000-12-31 00:00:00  2001-12-31 00:00:00  \\\n",
       "13  Illinois                  0.0                  0.0                  0.0   \n",
       "\n",
       "    2002-12-31 00:00:00  2003-12-31 00:00:00  2004-12-31 00:00:00  \\\n",
       "13                  0.0                 50.4                51.06   \n",
       "\n",
       "    2005-12-31 00:00:00  2006-12-31 00:00:00  2007-12-31 00:00:00  \\\n",
       "13               107.16               107.16               699.37   \n",
       "\n",
       "    2008-12-31 00:00:00  2009-12-31 00:00:00  2010-12-31 00:00:00  \\\n",
       "13               915.07              1547.47              2044.56   \n",
       "\n",
       "    2011-12-31 00:00:00  2012-12-31 00:00:00  2013-12-31 00:00:00  \\\n",
       "13               2742.0               3568.0               3568.0   \n",
       "\n",
       "   2014-12-31 00:00:00 2015-12-31 00:00:00  2016-12-31 00:00:00  Q3 6/30/2017  \n",
       "13                3568                3842               4026.0        4026.0  "
      ]
     },
     "execution_count": 3,
     "metadata": {},
     "output_type": "execute_result"
    }
   ],
   "source": [
    "il_df"
   ]
  },
  {
   "cell_type": "code",
   "execution_count": 4,
   "metadata": {},
   "outputs": [],
   "source": [
    "il_df = il_df.T"
   ]
  },
  {
   "cell_type": "code",
   "execution_count": 5,
   "metadata": {},
   "outputs": [],
   "source": [
    "il_df = il_df.drop(il_df.index[[0,-1]])"
   ]
  },
  {
   "cell_type": "code",
   "execution_count": 6,
   "metadata": {},
   "outputs": [
    {
     "data": {
      "text/plain": [
       "<matplotlib.axes._subplots.AxesSubplot at 0x7f8c327897d0>"
      ]
     },
     "execution_count": 6,
     "metadata": {},
     "output_type": "execute_result"
    },
    {
     "data": {
      "image/png": "[encoded data removed]",
      "text/plain": [
       "<Figure size 432x288 with 1 Axes>"
      ]
     },
     "metadata": {
      "needs_background": "light"
     },
     "output_type": "display_data"
    }
   ],
   "source": [
    "il_df.plot(kind='bar')"
   ]
  },
  {
   "cell_type": "code",
   "execution_count": 7,
   "metadata": {},
   "outputs": [],
   "source": [
    "key = il_df.keys()[0]"
   ]
  },
  {
   "cell_type": "code",
   "execution_count": 8,
   "metadata": {},
   "outputs": [
    {
     "data": {
      "text/plain": [
       "array([0.0, 0.0, 0.0, 0.0, 50.4, 51.059999999999995, 107.16, 107.16,\n",
       "       699.37, 915.0699999999999, 1547.47, 2044.56, 2742.0, 3568.0,\n",
       "       3568.0, 3568, 3842, 4026.0], dtype=object)"
      ]
     },
     "execution_count": 8,
     "metadata": {},
     "output_type": "execute_result"
    }
   ],
   "source": [
    "years = np.arange(1999,2021,1)\n",
    "capacity = np.array(il_df[key])\n",
    "capacity"
   ]
  },
  {
   "cell_type": "markdown",
   "metadata": {},
   "source": [
    "### Note: \n",
    "The downloadable data from DOE-EERE does not include years from 2017-2020, but the data exists in the widget.\n",
    "Adding data from the widget."
   ]
  },
  {
   "cell_type": "code",
   "execution_count": 9,
   "metadata": {},
   "outputs": [
    {
     "name": "stderr",
     "output_type": "stream",
     "text": [
      "/Users/huff/opt/anaconda3/lib/python3.7/site-packages/IPython/core/display.py:701: UserWarning: Consider using IPython.display.IFrame instead\n",
      "  warnings.warn(\"Consider using IPython.display.IFrame instead\")\n"
     ]
    },
    {
     "data": {
      "text/html": [
       "<iframe src=\"https://widgets.nrel.gov/mea/wind-exchange/\" style=\"width: 825px; height: 1000px; margin: 0 auto; display: block;\" : \"width: 100%; height: 1000px;\" scrolling=\"no\" frameborder=\"0\"></iframe>"
      ],
      "text/plain": [
       "<IPython.core.display.HTML object>"
      ]
     },
     "execution_count": 9,
     "metadata": {},
     "output_type": "execute_result"
    }
   ],
   "source": [
    "import IPython\n",
    "iframe = '<iframe src=\"https://widgets.nrel.gov/mea/wind-exchange/\" style=\"width: 825px; height: 1000px; margin: 0 auto; display: block;\" : \"width: 100%; height: 1000px;\" scrolling=\"no\" frameborder=\"0\"></iframe>'\n",
    "IPython.display.HTML(iframe)"
   ]
  },
  {
   "cell_type": "code",
   "execution_count": 10,
   "metadata": {},
   "outputs": [],
   "source": [
    "recent_cap = np.array([4332,4861,5350,6409])\n",
    "capacity = np.concatenate([capacity, recent_cap])"
   ]
  },
  {
   "cell_type": "code",
   "execution_count": 11,
   "metadata": {},
   "outputs": [],
   "source": [
    "delta_capacity = np.diff(capacity)"
   ]
  },
  {
   "cell_type": "code",
   "execution_count": 12,
   "metadata": {},
   "outputs": [
    {
     "data": {
      "image/png": "[encoded data removed]",
      "text/plain": [
       "<Figure size 936x360 with 1 Axes>"
      ]
     },
     "metadata": {
      "needs_background": "light"
     },
     "output_type": "display_data"
    }
   ],
   "source": [
    "fig, ax = plt.subplots(figsize=(13,5))\n",
    "width = 0.35\n",
    "rects1 = ax.bar(years - width/2, capacity, width, label='Total Capacity')\n",
    "rects2 = ax.bar(years[1:] + width/2, delta_capacity, width, label='Installed Capacity')\n",
    "ax.set_ylabel('Capacity (MW)')\n",
    "ax.set_title('Change in Illinois Wind Power Over Time')\n",
    "ax.set_xticks(years)\n",
    "ax.legend()\n",
    "plt.show()"
   ]
  },
  {
   "cell_type": "code",
   "execution_count": 13,
   "metadata": {},
   "outputs": [
    {
     "data": {
      "text/plain": [
       "array([0.0, 0.0, 0.0, 50.4, 0.6599999999999966, 56.1, 0.0, 592.21,\n",
       "       215.69999999999993, 632.4000000000001, 497.0899999999999, 697.44,\n",
       "       826.0, 0.0, 0.0, 274, 184.0, 306.0, 529, 489, 1059], dtype=object)"
      ]
     },
     "execution_count": 13,
     "metadata": {},
     "output_type": "execute_result"
    }
   ],
   "source": [
    "delta_capacity"
   ]
  },
  {
   "cell_type": "code",
   "execution_count": null,
   "metadata": {},
   "outputs": [],
   "source": []
  }
 ],
 "metadata": {
  "kernelspec": {
   "display_name": "Python 3",
   "language": "python",
   "name": "python3"
  },
  "language_info": {
   "codemirror_mode": {
    "name": "ipython",
    "version": 3
   },
   "file_extension": ".py",
   "mimetype": "text/x-python",
   "name": "python",
   "nbconvert_exporter": "python",
   "pygments_lexer": "ipython3",
   "version": "3.7.6"
  }
 },
 "nbformat": 4,
 "nbformat_minor": 4
}
