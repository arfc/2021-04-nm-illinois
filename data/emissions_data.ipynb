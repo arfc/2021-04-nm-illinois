{
 "cells": [
  {
   "cell_type": "markdown",
   "metadata": {},
   "source": [
    "## Calculations related to emissions data\n",
    "\n",
    "This notebook is used to perform calculations related to the emissions of \n",
    "different energy sources. \n",
    "Calculations include the conversion of units"
   ]
  },
  {
   "cell_type": "markdown",
   "metadata": {},
   "source": [
    "Emissions data from the Sargent & Lundy report [1] is presented in units of \n",
    "lb/MMBtu (pounds per one million british thermal units). These values are \n",
    "converted to MT/MWh (metric ton per megawatt hour). The conversion used is \n",
    "based on:\n",
    "    \n",
    "    1 lb/Btu = 1547.72 MT/MWh\n",
    "\n",
    "which converts to:\n",
    "    \n",
    "    1 lb/MMBtu = 1.54772e-3 MT/MWh\n",
    "    "
   ]
  },
  {
   "cell_type": "code",
   "execution_count": 1,
   "metadata": {},
   "outputs": [],
   "source": [
    "def convert_to_MTperMWh(emission):\n",
    "    '''\n",
    "    Converts a number in units of lb/MMBtu to MT/MWh\n",
    "    \n",
    "    Inputs: \n",
    "    -------\n",
    "    emission: float\n",
    "        reported value in units of lb/MMBtu\n",
    "    \n",
    "    Outputs:\n",
    "    --------\n",
    "    converted_emission: float\n",
    "        converted reported value in units of MT/MWh\n",
    "    '''\n",
    "    mmbtu_to_mwh = emission/0.29307107\n",
    "    lb_to_kg = mmbtu_to_mwh*0.453592\n",
    "    kg_to_tonne = lb_to_kg/1000\n",
    "    tonne_to_MT = kg_to_tonne/1e6\n",
    "    converted_emission = tonne_to_MT\n",
    "#     converted_emission = emission*1.54772e-3\n",
    "    return converted_emission"
   ]
  },
  {
   "cell_type": "code",
   "execution_count": 2,
   "metadata": {},
   "outputs": [
    {
     "name": "stdout",
     "output_type": "stream",
     "text": [
      "NOx emissions:  9.533956115149817e-11 \n",
      "SO2 emissions:  1.3929481337069535e-10 \n",
      "CO2 emissions:  3.188303506040361e-08\n"
     ]
    }
   ],
   "source": [
    "# Coal Plant with 90% carbon capture\n",
    "coal_NOx_emissions = convert_to_MTperMWh(0.0616)\n",
    "coal_SO2_emissions = convert_to_MTperMWh(0.09)\n",
    "coal_CO2_emissions = convert_to_MTperMWh(20.6)\n",
    "print(\"NOx emissions: \", coal_NOx_emissions, \"\\n\" \n",
    "      \"SO2 emissions: \", coal_SO2_emissions, \"\\n\"\n",
    "      \"CO2 emissions: \", coal_CO2_emissions)"
   ]
  },
  {
   "cell_type": "code",
   "execution_count": 3,
   "metadata": {},
   "outputs": [
    {
     "name": "stdout",
     "output_type": "stream",
     "text": [
      "NOx emissions:  1.1607901114224614e-11 \n",
      "SO2 emissions:  0.0 \n",
      "CO2 emissions:  1.8108325738190398e-07\n"
     ]
    }
   ],
   "source": [
    "# Natural Gas Combined Cycle with 0% carbon capture\n",
    "NG_NOx_emissions = convert_to_MTperMWh(0.0075)\n",
    "NG_SO2_emissions = convert_to_MTperMWh(0.00)\n",
    "NG_CO2_emissions = convert_to_MTperMWh(117)\n",
    "print(\"NOx emissions: \", NG_NOx_emissions, \"\\n\" \n",
    "      \"SO2 emissions: \", NG_SO2_emissions, \"\\n\"\n",
    "      \"CO2 emissions: \", NG_CO2_emissions)"
   ]
  },
  {
   "cell_type": "markdown",
   "metadata": {},
   "source": [
    "### References\n",
    "[1] \"Capital Costs and Performance Characteristics for Utility Scale Power Generating Technologies\" (Sargent and Lundy, 2020)<br>"
   ]
  },
  {
   "cell_type": "code",
   "execution_count": null,
   "metadata": {},
   "outputs": [],
   "source": []
  }
 ],
 "metadata": {
  "kernelspec": {
   "display_name": "Python 3",
   "language": "python",
   "name": "python3"
  },
  "language_info": {
   "codemirror_mode": {
    "name": "ipython",
    "version": 3
   },
   "file_extension": ".py",
   "mimetype": "text/x-python",
   "name": "python",
   "nbconvert_exporter": "python",
   "pygments_lexer": "ipython3",
   "version": "3.7.6"
  }
 },
 "nbformat": 4,
 "nbformat_minor": 4
}
